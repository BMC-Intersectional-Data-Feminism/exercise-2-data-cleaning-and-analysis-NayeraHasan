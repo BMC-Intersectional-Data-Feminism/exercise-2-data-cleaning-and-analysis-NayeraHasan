{
 "cells": [
  {
   "cell_type": "markdown",
   "metadata": {},
   "source": [
    "# Exercise 2: Data Processing and Analysis"
   ]
  },
  {
   "cell_type": "code",
   "execution_count": 1,
   "metadata": {},
   "outputs": [],
   "source": [
    "import pandas as pd \n",
    "import matplotlib.pyplot as plt\n",
    "import seaborn as sns\n",
    "import numpy as np\n",
    "try:\n",
    "    import otter\n",
    "    grader = otter.Notebook()\n",
    "except:\n",
    "    !pip install otter-grader\n",
    "    import otter\n",
    "    grader = otter.Notebook()\n"
   ]
  },
  {
   "cell_type": "markdown",
   "metadata": {},
   "source": [
    "Today we're working with simulated smartwatch health data. You'll notice when you read in the csv file that we have 7 columns: User ID, Heart Rate (BPM), Blood Oxygen Level (%), Step Count, Sleep Duration (hours), Activity Level, and Stress Level. We're going to go through and \"clean up\" the data so that we can calculate some basic statistics such as mean, median, minimum, and maximum for each variable. Run the cell below to read in the table saving it in the variable `smartwatch`. "
   ]
  },
  {
   "cell_type": "code",
   "execution_count": 2,
   "metadata": {},
   "outputs": [
    {
     "data": {
      "text/html": [
       "<div>\n",
       "<style scoped>\n",
       "    .dataframe tbody tr th:only-of-type {\n",
       "        vertical-align: middle;\n",
       "    }\n",
       "\n",
       "    .dataframe tbody tr th {\n",
       "        vertical-align: top;\n",
       "    }\n",
       "\n",
       "    .dataframe thead th {\n",
       "        text-align: right;\n",
       "    }\n",
       "</style>\n",
       "<table border=\"1\" class=\"dataframe\">\n",
       "  <thead>\n",
       "    <tr style=\"text-align: right;\">\n",
       "      <th></th>\n",
       "      <th>User ID</th>\n",
       "      <th>Heart Rate (BPM)</th>\n",
       "      <th>Blood Oxygen Level (%)</th>\n",
       "      <th>Step Count</th>\n",
       "      <th>Sleep Duration (hours)</th>\n",
       "      <th>Activity Level</th>\n",
       "      <th>Stress Level</th>\n",
       "    </tr>\n",
       "  </thead>\n",
       "  <tbody>\n",
       "    <tr>\n",
       "      <th>0</th>\n",
       "      <td>4174.0</td>\n",
       "      <td>58.939776</td>\n",
       "      <td>98.809650</td>\n",
       "      <td>5450.390578</td>\n",
       "      <td>7.167235622316564</td>\n",
       "      <td>Highly Active</td>\n",
       "      <td>1</td>\n",
       "    </tr>\n",
       "    <tr>\n",
       "      <th>1</th>\n",
       "      <td>NaN</td>\n",
       "      <td>NaN</td>\n",
       "      <td>98.532195</td>\n",
       "      <td>727.601610</td>\n",
       "      <td>6.538239375570314</td>\n",
       "      <td>Highly_Active</td>\n",
       "      <td>5</td>\n",
       "    </tr>\n",
       "    <tr>\n",
       "      <th>2</th>\n",
       "      <td>1860.0</td>\n",
       "      <td>247.803052</td>\n",
       "      <td>97.052954</td>\n",
       "      <td>2826.521994</td>\n",
       "      <td>ERROR</td>\n",
       "      <td>Highly Active</td>\n",
       "      <td>5</td>\n",
       "    </tr>\n",
       "    <tr>\n",
       "      <th>3</th>\n",
       "      <td>2294.0</td>\n",
       "      <td>40.000000</td>\n",
       "      <td>96.894213</td>\n",
       "      <td>13797.338044</td>\n",
       "      <td>7.367789630207228</td>\n",
       "      <td>Actve</td>\n",
       "      <td>3</td>\n",
       "    </tr>\n",
       "    <tr>\n",
       "      <th>4</th>\n",
       "      <td>2130.0</td>\n",
       "      <td>61.950165</td>\n",
       "      <td>98.583797</td>\n",
       "      <td>15679.067648</td>\n",
       "      <td>NaN</td>\n",
       "      <td>Highly_Active</td>\n",
       "      <td>6</td>\n",
       "    </tr>\n",
       "    <tr>\n",
       "      <th>...</th>\n",
       "      <td>...</td>\n",
       "      <td>...</td>\n",
       "      <td>...</td>\n",
       "      <td>...</td>\n",
       "      <td>...</td>\n",
       "      <td>...</td>\n",
       "      <td>...</td>\n",
       "    </tr>\n",
       "    <tr>\n",
       "      <th>9995</th>\n",
       "      <td>1524.0</td>\n",
       "      <td>78.819386</td>\n",
       "      <td>98.931927</td>\n",
       "      <td>2948.491953</td>\n",
       "      <td>7.402748595032027</td>\n",
       "      <td>Active</td>\n",
       "      <td>7</td>\n",
       "    </tr>\n",
       "    <tr>\n",
       "      <th>9996</th>\n",
       "      <td>4879.0</td>\n",
       "      <td>48.632659</td>\n",
       "      <td>95.773035</td>\n",
       "      <td>4725.623070</td>\n",
       "      <td>6.3821659358529015</td>\n",
       "      <td>Sedentary</td>\n",
       "      <td>2</td>\n",
       "    </tr>\n",
       "    <tr>\n",
       "      <th>9997</th>\n",
       "      <td>2624.0</td>\n",
       "      <td>73.834442</td>\n",
       "      <td>97.945874</td>\n",
       "      <td>2571.492060</td>\n",
       "      <td>6.91654920303435</td>\n",
       "      <td>Sedentary</td>\n",
       "      <td>4</td>\n",
       "    </tr>\n",
       "    <tr>\n",
       "      <th>9998</th>\n",
       "      <td>4907.0</td>\n",
       "      <td>NaN</td>\n",
       "      <td>98.401058</td>\n",
       "      <td>3364.788855</td>\n",
       "      <td>5.691233932149209</td>\n",
       "      <td>Active</td>\n",
       "      <td>8</td>\n",
       "    </tr>\n",
       "    <tr>\n",
       "      <th>9999</th>\n",
       "      <td>4113.0</td>\n",
       "      <td>70.063864</td>\n",
       "      <td>98.475606</td>\n",
       "      <td>544.696104</td>\n",
       "      <td>5.691001039740254</td>\n",
       "      <td>Actve</td>\n",
       "      <td>5</td>\n",
       "    </tr>\n",
       "  </tbody>\n",
       "</table>\n",
       "<p>10000 rows × 7 columns</p>\n",
       "</div>"
      ],
      "text/plain": [
       "      User ID  Heart Rate (BPM)  Blood Oxygen Level (%)    Step Count  \\\n",
       "0      4174.0         58.939776               98.809650   5450.390578   \n",
       "1         NaN               NaN               98.532195    727.601610   \n",
       "2      1860.0        247.803052               97.052954   2826.521994   \n",
       "3      2294.0         40.000000               96.894213  13797.338044   \n",
       "4      2130.0         61.950165               98.583797  15679.067648   \n",
       "...       ...               ...                     ...           ...   \n",
       "9995   1524.0         78.819386               98.931927   2948.491953   \n",
       "9996   4879.0         48.632659               95.773035   4725.623070   \n",
       "9997   2624.0         73.834442               97.945874   2571.492060   \n",
       "9998   4907.0               NaN               98.401058   3364.788855   \n",
       "9999   4113.0         70.063864               98.475606    544.696104   \n",
       "\n",
       "     Sleep Duration (hours) Activity Level Stress Level  \n",
       "0         7.167235622316564  Highly Active            1  \n",
       "1         6.538239375570314  Highly_Active            5  \n",
       "2                     ERROR  Highly Active            5  \n",
       "3         7.367789630207228          Actve            3  \n",
       "4                       NaN  Highly_Active            6  \n",
       "...                     ...            ...          ...  \n",
       "9995      7.402748595032027         Active            7  \n",
       "9996     6.3821659358529015      Sedentary            2  \n",
       "9997       6.91654920303435      Sedentary            4  \n",
       "9998      5.691233932149209         Active            8  \n",
       "9999      5.691001039740254          Actve            5  \n",
       "\n",
       "[10000 rows x 7 columns]"
      ]
     },
     "execution_count": 2,
     "metadata": {},
     "output_type": "execute_result"
    }
   ],
   "source": [
    "smartwatch = pd.read_csv(\"unclean_smartwatch_health_data.csv\")\n",
    "smartwatch"
   ]
  },
  {
   "cell_type": "markdown",
   "metadata": {},
   "source": [
    "Let's start together with the Heart Rate column. Just looking at the preview table above we can see two things right away: (1) we have `NaN` values meaning data was not collected for those individuals, and (2) some of the heart rate values are abnormally high i.e. `247.803052`. Let's see what the entire range of values look like. "
   ]
  },
  {
   "cell_type": "code",
   "execution_count": 3,
   "metadata": {},
   "outputs": [
    {
     "name": "stdout",
     "output_type": "stream",
     "text": [
      "40.0 296.5939695131042\n"
     ]
    }
   ],
   "source": [
    "print(smartwatch['Heart Rate (BPM)'].min(), smartwatch['Heart Rate (BPM)'].max())"
   ]
  },
  {
   "cell_type": "markdown",
   "metadata": {},
   "source": [
    "**Question 1**: Set the variables below equal to the minimum heart rate and the maximum heart rate in the dataset. This is just practice for the method of checking answers as you go. Afterwards run the cell below to check your answer. "
   ]
  },
  {
   "cell_type": "code",
   "execution_count": 4,
   "metadata": {},
   "outputs": [],
   "source": [
    "minimumHeartRate = 40.0\n",
    "maximumHeartRate = 296.5939695131042"
   ]
  },
  {
   "cell_type": "code",
   "execution_count": 5,
   "metadata": {},
   "outputs": [
    {
     "data": {
      "text/html": [
       "<p><strong><pre style='display: inline;'>Question 1</pre></strong> passed! 🌟</p>"
      ],
      "text/plain": [
       "Question 1 results: All test cases passed!"
      ]
     },
     "execution_count": 5,
     "metadata": {},
     "output_type": "execute_result"
    }
   ],
   "source": [
    "grader.check('q1')"
   ]
  },
  {
   "cell_type": "markdown",
   "metadata": {},
   "source": [
    "Notice that the maximum value of `296` beats per minimute is WAY above normal range of heart rates. In fact, according to [heart.org](https://www.heart.org/en/healthy-living/fitness/fitness-basics/target-heart-rates) the highest estimated heart rate based on age ranges from 150 to 200 for adults. This will vary between individuals, but this is a good starting point for us to think about outliers in the heart rate values in this dataset. Let's see how many rows have missing data or heart rates above 200. "
   ]
  },
  {
   "cell_type": "code",
   "execution_count": 6,
   "metadata": {},
   "outputs": [
    {
     "name": "stdout",
     "output_type": "stream",
     "text": [
      "450\n"
     ]
    }
   ],
   "source": [
    "# Select rows where Heart Rate is NaN or above 200\n",
    "outlier_or_null_rows = smartwatch[\n",
    "    smartwatch['Heart Rate (BPM)'].isnull() | (smartwatch['Heart Rate (BPM)'] > 200)\n",
    "]\n",
    "\n",
    "# Number of rows satisfying either condition\n",
    "len(outlier_or_null_rows)\n",
    "num_outliers_or_null = len(outlier_or_null_rows)\n",
    "print (num_outliers_or_null)\n"
   ]
  },
  {
   "cell_type": "code",
   "execution_count": 7,
   "metadata": {},
   "outputs": [
    {
     "data": {
      "text/plain": [
       "450"
      ]
     },
     "execution_count": 7,
     "metadata": {},
     "output_type": "execute_result"
    }
   ],
   "source": [
    "## select rows where Heart Rate is NaN or rows where the heart rate is above 200. \n",
    "# Emphasis on the usage of 'or' here, we want rows where either \n",
    "# scenario 1 (NaN) OR scenario 2 (>200) is true. \n",
    "\n",
    "outlierHeartRaterows = smartwatch[smartwatch['Heart Rate (BPM)'] > 200].copy()\n",
    "nullHeartRaterows = smartwatch[smartwatch['Heart Rate (BPM)'].isnull()].copy()\n",
    "\n",
    "len(outlierHeartRaterows) + len(nullHeartRaterows)"
   ]
  },
  {
   "cell_type": "code",
   "execution_count": 8,
   "metadata": {},
   "outputs": [
    {
     "data": {
      "text/html": [
       "<div>\n",
       "<style scoped>\n",
       "    .dataframe tbody tr th:only-of-type {\n",
       "        vertical-align: middle;\n",
       "    }\n",
       "\n",
       "    .dataframe tbody tr th {\n",
       "        vertical-align: top;\n",
       "    }\n",
       "\n",
       "    .dataframe thead th {\n",
       "        text-align: right;\n",
       "    }\n",
       "</style>\n",
       "<table border=\"1\" class=\"dataframe\">\n",
       "  <thead>\n",
       "    <tr style=\"text-align: right;\">\n",
       "      <th></th>\n",
       "      <th>User ID</th>\n",
       "      <th>Heart Rate (BPM)</th>\n",
       "      <th>Blood Oxygen Level (%)</th>\n",
       "      <th>Step Count</th>\n",
       "      <th>Sleep Duration (hours)</th>\n",
       "      <th>Activity Level</th>\n",
       "      <th>Stress Level</th>\n",
       "    </tr>\n",
       "  </thead>\n",
       "  <tbody>\n",
       "    <tr>\n",
       "      <th>0</th>\n",
       "      <td>4174.0</td>\n",
       "      <td>58.939776</td>\n",
       "      <td>98.809650</td>\n",
       "      <td>5450.390578</td>\n",
       "      <td>7.167235622316564</td>\n",
       "      <td>Highly Active</td>\n",
       "      <td>1</td>\n",
       "    </tr>\n",
       "    <tr>\n",
       "      <th>3</th>\n",
       "      <td>2294.0</td>\n",
       "      <td>40.000000</td>\n",
       "      <td>96.894213</td>\n",
       "      <td>13797.338044</td>\n",
       "      <td>7.367789630207228</td>\n",
       "      <td>Actve</td>\n",
       "      <td>3</td>\n",
       "    </tr>\n",
       "    <tr>\n",
       "      <th>4</th>\n",
       "      <td>2130.0</td>\n",
       "      <td>61.950165</td>\n",
       "      <td>98.583797</td>\n",
       "      <td>15679.067648</td>\n",
       "      <td>NaN</td>\n",
       "      <td>Highly_Active</td>\n",
       "      <td>6</td>\n",
       "    </tr>\n",
       "    <tr>\n",
       "      <th>5</th>\n",
       "      <td>2095.0</td>\n",
       "      <td>96.285938</td>\n",
       "      <td>94.202910</td>\n",
       "      <td>10205.992256</td>\n",
       "      <td>8.378342673824589</td>\n",
       "      <td>Highly_Active</td>\n",
       "      <td>10</td>\n",
       "    </tr>\n",
       "    <tr>\n",
       "      <th>6</th>\n",
       "      <td>4772.0</td>\n",
       "      <td>47.272257</td>\n",
       "      <td>95.389760</td>\n",
       "      <td>3208.781177</td>\n",
       "      <td>7.871146008904113</td>\n",
       "      <td>Seddentary</td>\n",
       "      <td>2</td>\n",
       "    </tr>\n",
       "    <tr>\n",
       "      <th>...</th>\n",
       "      <td>...</td>\n",
       "      <td>...</td>\n",
       "      <td>...</td>\n",
       "      <td>...</td>\n",
       "      <td>...</td>\n",
       "      <td>...</td>\n",
       "      <td>...</td>\n",
       "    </tr>\n",
       "    <tr>\n",
       "      <th>9994</th>\n",
       "      <td>1942.0</td>\n",
       "      <td>77.912299</td>\n",
       "      <td>98.640583</td>\n",
       "      <td>10061.145291</td>\n",
       "      <td>5.428634630125767</td>\n",
       "      <td>Seddentary</td>\n",
       "      <td>10</td>\n",
       "    </tr>\n",
       "    <tr>\n",
       "      <th>9995</th>\n",
       "      <td>1524.0</td>\n",
       "      <td>78.819386</td>\n",
       "      <td>98.931927</td>\n",
       "      <td>2948.491953</td>\n",
       "      <td>7.402748595032027</td>\n",
       "      <td>Active</td>\n",
       "      <td>7</td>\n",
       "    </tr>\n",
       "    <tr>\n",
       "      <th>9996</th>\n",
       "      <td>4879.0</td>\n",
       "      <td>48.632659</td>\n",
       "      <td>95.773035</td>\n",
       "      <td>4725.623070</td>\n",
       "      <td>6.3821659358529015</td>\n",
       "      <td>Sedentary</td>\n",
       "      <td>2</td>\n",
       "    </tr>\n",
       "    <tr>\n",
       "      <th>9997</th>\n",
       "      <td>2624.0</td>\n",
       "      <td>73.834442</td>\n",
       "      <td>97.945874</td>\n",
       "      <td>2571.492060</td>\n",
       "      <td>6.91654920303435</td>\n",
       "      <td>Sedentary</td>\n",
       "      <td>4</td>\n",
       "    </tr>\n",
       "    <tr>\n",
       "      <th>9999</th>\n",
       "      <td>4113.0</td>\n",
       "      <td>70.063864</td>\n",
       "      <td>98.475606</td>\n",
       "      <td>544.696104</td>\n",
       "      <td>5.691001039740254</td>\n",
       "      <td>Actve</td>\n",
       "      <td>5</td>\n",
       "    </tr>\n",
       "  </tbody>\n",
       "</table>\n",
       "<p>9550 rows × 7 columns</p>\n",
       "</div>"
      ],
      "text/plain": [
       "      User ID  Heart Rate (BPM)  Blood Oxygen Level (%)    Step Count  \\\n",
       "0      4174.0         58.939776               98.809650   5450.390578   \n",
       "3      2294.0         40.000000               96.894213  13797.338044   \n",
       "4      2130.0         61.950165               98.583797  15679.067648   \n",
       "5      2095.0         96.285938               94.202910  10205.992256   \n",
       "6      4772.0         47.272257               95.389760   3208.781177   \n",
       "...       ...               ...                     ...           ...   \n",
       "9994   1942.0         77.912299               98.640583  10061.145291   \n",
       "9995   1524.0         78.819386               98.931927   2948.491953   \n",
       "9996   4879.0         48.632659               95.773035   4725.623070   \n",
       "9997   2624.0         73.834442               97.945874   2571.492060   \n",
       "9999   4113.0         70.063864               98.475606    544.696104   \n",
       "\n",
       "     Sleep Duration (hours) Activity Level Stress Level  \n",
       "0         7.167235622316564  Highly Active            1  \n",
       "3         7.367789630207228          Actve            3  \n",
       "4                       NaN  Highly_Active            6  \n",
       "5         8.378342673824589  Highly_Active           10  \n",
       "6         7.871146008904113     Seddentary            2  \n",
       "...                     ...            ...          ...  \n",
       "9994      5.428634630125767     Seddentary           10  \n",
       "9995      7.402748595032027         Active            7  \n",
       "9996     6.3821659358529015      Sedentary            2  \n",
       "9997       6.91654920303435      Sedentary            4  \n",
       "9999      5.691001039740254          Actve            5  \n",
       "\n",
       "[9550 rows x 7 columns]"
      ]
     },
     "execution_count": 8,
     "metadata": {},
     "output_type": "execute_result"
    }
   ],
   "source": [
    "## Now let's get a table of all the other rows. \n",
    "heartrateRows = smartwatch[(~smartwatch['Heart Rate (BPM)'].isnull()) & (smartwatch['Heart Rate (BPM)'] <= 200)].copy()\n",
    "\n",
    "heartrateRows"
   ]
  },
  {
   "cell_type": "markdown",
   "metadata": {},
   "source": [
    "**Question 2:** \n",
    "\n",
    "Notice here that the length of the two tables (`450` and `9550`) add up to the total number rows (`n=10000`). This is a good sanity check as we manipulate the table. Now we have to decide how we deal with these missing values and outliers. One method to do this would be remove all the rows with null values or outlier values. Another method is use imputation - this can be done in several ways but below we're going to substitute the average heart rate for the missing and mismeasured values. Do we think this will change the mean?"
   ]
  },
  {
   "cell_type": "code",
   "execution_count": 9,
   "metadata": {},
   "outputs": [
    {
     "data": {
      "text/plain": [
       "75.13268404820141"
      ]
     },
     "execution_count": 9,
     "metadata": {},
     "output_type": "execute_result"
    }
   ],
   "source": [
    "# Calculate mean heart rate from valid rows only (not null and ≤ 200)\n",
    "HeartRateMean = float(heartrateRows['Heart Rate (BPM)'].mean())\n",
    "\n",
    "HeartRateMean\n"
   ]
  },
  {
   "cell_type": "code",
   "execution_count": 10,
   "metadata": {},
   "outputs": [
    {
     "data": {
      "text/html": [
       "<div>\n",
       "<style scoped>\n",
       "    .dataframe tbody tr th:only-of-type {\n",
       "        vertical-align: middle;\n",
       "    }\n",
       "\n",
       "    .dataframe tbody tr th {\n",
       "        vertical-align: top;\n",
       "    }\n",
       "\n",
       "    .dataframe thead th {\n",
       "        text-align: right;\n",
       "    }\n",
       "</style>\n",
       "<table border=\"1\" class=\"dataframe\">\n",
       "  <thead>\n",
       "    <tr style=\"text-align: right;\">\n",
       "      <th></th>\n",
       "      <th>User ID</th>\n",
       "      <th>Heart Rate (BPM)</th>\n",
       "      <th>Blood Oxygen Level (%)</th>\n",
       "      <th>Step Count</th>\n",
       "      <th>Sleep Duration (hours)</th>\n",
       "      <th>Activity Level</th>\n",
       "      <th>Stress Level</th>\n",
       "    </tr>\n",
       "  </thead>\n",
       "  <tbody>\n",
       "    <tr>\n",
       "      <th>2</th>\n",
       "      <td>1860.0</td>\n",
       "      <td>75.132684</td>\n",
       "      <td>97.052954</td>\n",
       "      <td>2826.521994</td>\n",
       "      <td>ERROR</td>\n",
       "      <td>Highly Active</td>\n",
       "      <td>5</td>\n",
       "    </tr>\n",
       "    <tr>\n",
       "      <th>337</th>\n",
       "      <td>2369.0</td>\n",
       "      <td>75.132684</td>\n",
       "      <td>95.441773</td>\n",
       "      <td>2998.761919</td>\n",
       "      <td>6.670622263019579</td>\n",
       "      <td>Highly Active</td>\n",
       "      <td>9</td>\n",
       "    </tr>\n",
       "    <tr>\n",
       "      <th>393</th>\n",
       "      <td>2443.0</td>\n",
       "      <td>75.132684</td>\n",
       "      <td>95.497181</td>\n",
       "      <td>1227.804688</td>\n",
       "      <td>5.185244686595328</td>\n",
       "      <td>Highly_Active</td>\n",
       "      <td>9</td>\n",
       "    </tr>\n",
       "    <tr>\n",
       "      <th>403</th>\n",
       "      <td>3200.0</td>\n",
       "      <td>75.132684</td>\n",
       "      <td>96.011492</td>\n",
       "      <td>9402.746140</td>\n",
       "      <td>7.190062873693008</td>\n",
       "      <td>Highly_Active</td>\n",
       "      <td>9</td>\n",
       "    </tr>\n",
       "    <tr>\n",
       "      <th>595</th>\n",
       "      <td>2129.0</td>\n",
       "      <td>75.132684</td>\n",
       "      <td>97.161853</td>\n",
       "      <td>2555.402184</td>\n",
       "      <td>5.928628388578222</td>\n",
       "      <td>Highly Active</td>\n",
       "      <td>7</td>\n",
       "    </tr>\n",
       "    <tr>\n",
       "      <th>649</th>\n",
       "      <td>2008.0</td>\n",
       "      <td>75.132684</td>\n",
       "      <td>98.356789</td>\n",
       "      <td>2739.171166</td>\n",
       "      <td>7.272009723254014</td>\n",
       "      <td>Highly_Active</td>\n",
       "      <td>NaN</td>\n",
       "    </tr>\n",
       "    <tr>\n",
       "      <th>818</th>\n",
       "      <td>3156.0</td>\n",
       "      <td>75.132684</td>\n",
       "      <td>NaN</td>\n",
       "      <td>7281.778831</td>\n",
       "      <td>4.300171191258864</td>\n",
       "      <td>Sedentary</td>\n",
       "      <td>3</td>\n",
       "    </tr>\n",
       "    <tr>\n",
       "      <th>1195</th>\n",
       "      <td>3261.0</td>\n",
       "      <td>75.132684</td>\n",
       "      <td>99.652006</td>\n",
       "      <td>2867.872064</td>\n",
       "      <td>7.218530947169898</td>\n",
       "      <td>Active</td>\n",
       "      <td>7</td>\n",
       "    </tr>\n",
       "    <tr>\n",
       "      <th>1391</th>\n",
       "      <td>4621.0</td>\n",
       "      <td>75.132684</td>\n",
       "      <td>96.688083</td>\n",
       "      <td>20577.677290</td>\n",
       "      <td>8.049854248644627</td>\n",
       "      <td>Active</td>\n",
       "      <td>3</td>\n",
       "    </tr>\n",
       "    <tr>\n",
       "      <th>1602</th>\n",
       "      <td>4737.0</td>\n",
       "      <td>75.132684</td>\n",
       "      <td>95.095839</td>\n",
       "      <td>16072.283561</td>\n",
       "      <td>6.98847026102848</td>\n",
       "      <td>Actve</td>\n",
       "      <td>6</td>\n",
       "    </tr>\n",
       "    <tr>\n",
       "      <th>2023</th>\n",
       "      <td>NaN</td>\n",
       "      <td>75.132684</td>\n",
       "      <td>99.032130</td>\n",
       "      <td>17620.765455</td>\n",
       "      <td>7.641814526532746</td>\n",
       "      <td>Sedentary</td>\n",
       "      <td>NaN</td>\n",
       "    </tr>\n",
       "    <tr>\n",
       "      <th>2211</th>\n",
       "      <td>2711.0</td>\n",
       "      <td>75.132684</td>\n",
       "      <td>97.852781</td>\n",
       "      <td>1786.998129</td>\n",
       "      <td>9.403363125752087</td>\n",
       "      <td>Active</td>\n",
       "      <td>5</td>\n",
       "    </tr>\n",
       "    <tr>\n",
       "      <th>2212</th>\n",
       "      <td>4020.0</td>\n",
       "      <td>75.132684</td>\n",
       "      <td>95.280955</td>\n",
       "      <td>3794.430590</td>\n",
       "      <td>9.471210427832666</td>\n",
       "      <td>Seddentary</td>\n",
       "      <td>2</td>\n",
       "    </tr>\n",
       "    <tr>\n",
       "      <th>2338</th>\n",
       "      <td>1762.0</td>\n",
       "      <td>75.132684</td>\n",
       "      <td>96.026123</td>\n",
       "      <td>9969.240744</td>\n",
       "      <td>7.434143975499938</td>\n",
       "      <td>Sedentary</td>\n",
       "      <td>4</td>\n",
       "    </tr>\n",
       "    <tr>\n",
       "      <th>2454</th>\n",
       "      <td>4902.0</td>\n",
       "      <td>75.132684</td>\n",
       "      <td>97.092166</td>\n",
       "      <td>11843.255005</td>\n",
       "      <td>4.8230739165423175</td>\n",
       "      <td>Sedentary</td>\n",
       "      <td>5</td>\n",
       "    </tr>\n",
       "    <tr>\n",
       "      <th>3113</th>\n",
       "      <td>1035.0</td>\n",
       "      <td>75.132684</td>\n",
       "      <td>94.120618</td>\n",
       "      <td>5303.010562</td>\n",
       "      <td>5.216491298730846</td>\n",
       "      <td>Active</td>\n",
       "      <td>4</td>\n",
       "    </tr>\n",
       "    <tr>\n",
       "      <th>3235</th>\n",
       "      <td>4478.0</td>\n",
       "      <td>75.132684</td>\n",
       "      <td>97.295126</td>\n",
       "      <td>2402.047207</td>\n",
       "      <td>8.40664811517765</td>\n",
       "      <td>Seddentary</td>\n",
       "      <td>3</td>\n",
       "    </tr>\n",
       "    <tr>\n",
       "      <th>3354</th>\n",
       "      <td>4976.0</td>\n",
       "      <td>75.132684</td>\n",
       "      <td>96.703748</td>\n",
       "      <td>4265.937611</td>\n",
       "      <td>6.272040953618372</td>\n",
       "      <td>Seddentary</td>\n",
       "      <td>4</td>\n",
       "    </tr>\n",
       "    <tr>\n",
       "      <th>3451</th>\n",
       "      <td>2768.0</td>\n",
       "      <td>75.132684</td>\n",
       "      <td>96.761963</td>\n",
       "      <td>4723.116194</td>\n",
       "      <td>7.656776835132766</td>\n",
       "      <td>Highly Active</td>\n",
       "      <td>3</td>\n",
       "    </tr>\n",
       "    <tr>\n",
       "      <th>3886</th>\n",
       "      <td>3856.0</td>\n",
       "      <td>75.132684</td>\n",
       "      <td>96.440489</td>\n",
       "      <td>841.196042</td>\n",
       "      <td>8.5141016110168</td>\n",
       "      <td>Seddentary</td>\n",
       "      <td>7</td>\n",
       "    </tr>\n",
       "    <tr>\n",
       "      <th>3983</th>\n",
       "      <td>1597.0</td>\n",
       "      <td>75.132684</td>\n",
       "      <td>99.396872</td>\n",
       "      <td>23860.187292</td>\n",
       "      <td>9.72770039263133</td>\n",
       "      <td>Highly Active</td>\n",
       "      <td>10</td>\n",
       "    </tr>\n",
       "    <tr>\n",
       "      <th>4146</th>\n",
       "      <td>1574.0</td>\n",
       "      <td>75.132684</td>\n",
       "      <td>98.386439</td>\n",
       "      <td>4255.759517</td>\n",
       "      <td>9.950312577595927</td>\n",
       "      <td>Sedentary</td>\n",
       "      <td>1</td>\n",
       "    </tr>\n",
       "    <tr>\n",
       "      <th>4185</th>\n",
       "      <td>4643.0</td>\n",
       "      <td>75.132684</td>\n",
       "      <td>95.415588</td>\n",
       "      <td>54698.646371</td>\n",
       "      <td>8.4611474189254</td>\n",
       "      <td>NaN</td>\n",
       "      <td>10</td>\n",
       "    </tr>\n",
       "    <tr>\n",
       "      <th>4254</th>\n",
       "      <td>3563.0</td>\n",
       "      <td>75.132684</td>\n",
       "      <td>95.768379</td>\n",
       "      <td>5871.602913</td>\n",
       "      <td>6.169674782300074</td>\n",
       "      <td>Actve</td>\n",
       "      <td>3</td>\n",
       "    </tr>\n",
       "    <tr>\n",
       "      <th>4275</th>\n",
       "      <td>1844.0</td>\n",
       "      <td>75.132684</td>\n",
       "      <td>97.847790</td>\n",
       "      <td>1855.481139</td>\n",
       "      <td>7.103458436811003</td>\n",
       "      <td>Sedentary</td>\n",
       "      <td>5</td>\n",
       "    </tr>\n",
       "    <tr>\n",
       "      <th>4366</th>\n",
       "      <td>2655.0</td>\n",
       "      <td>75.132684</td>\n",
       "      <td>100.000000</td>\n",
       "      <td>11331.922879</td>\n",
       "      <td>6.252116628792069</td>\n",
       "      <td>Actve</td>\n",
       "      <td>8</td>\n",
       "    </tr>\n",
       "    <tr>\n",
       "      <th>4509</th>\n",
       "      <td>4642.0</td>\n",
       "      <td>75.132684</td>\n",
       "      <td>97.983060</td>\n",
       "      <td>8526.218347</td>\n",
       "      <td>7.157804627096766</td>\n",
       "      <td>Highly Active</td>\n",
       "      <td>1</td>\n",
       "    </tr>\n",
       "    <tr>\n",
       "      <th>4521</th>\n",
       "      <td>4629.0</td>\n",
       "      <td>75.132684</td>\n",
       "      <td>100.000000</td>\n",
       "      <td>5614.112857</td>\n",
       "      <td>6.304731924019175</td>\n",
       "      <td>Active</td>\n",
       "      <td>2</td>\n",
       "    </tr>\n",
       "    <tr>\n",
       "      <th>4780</th>\n",
       "      <td>2003.0</td>\n",
       "      <td>75.132684</td>\n",
       "      <td>98.242375</td>\n",
       "      <td>5299.159731</td>\n",
       "      <td>8.471284845728434</td>\n",
       "      <td>Active</td>\n",
       "      <td>1</td>\n",
       "    </tr>\n",
       "    <tr>\n",
       "      <th>4792</th>\n",
       "      <td>3530.0</td>\n",
       "      <td>75.132684</td>\n",
       "      <td>99.960103</td>\n",
       "      <td>5396.348537</td>\n",
       "      <td>5.03699852197675</td>\n",
       "      <td>Actve</td>\n",
       "      <td>4</td>\n",
       "    </tr>\n",
       "    <tr>\n",
       "      <th>4833</th>\n",
       "      <td>4829.0</td>\n",
       "      <td>75.132684</td>\n",
       "      <td>97.920202</td>\n",
       "      <td>17207.114700</td>\n",
       "      <td>5.93139606422032</td>\n",
       "      <td>Highly_Active</td>\n",
       "      <td>3</td>\n",
       "    </tr>\n",
       "    <tr>\n",
       "      <th>5090</th>\n",
       "      <td>4797.0</td>\n",
       "      <td>75.132684</td>\n",
       "      <td>98.647925</td>\n",
       "      <td>2604.794451</td>\n",
       "      <td>4.604169369845159</td>\n",
       "      <td>Highly Active</td>\n",
       "      <td>1</td>\n",
       "    </tr>\n",
       "    <tr>\n",
       "      <th>5170</th>\n",
       "      <td>2023.0</td>\n",
       "      <td>75.132684</td>\n",
       "      <td>94.316370</td>\n",
       "      <td>789.259057</td>\n",
       "      <td>4.456316515329178</td>\n",
       "      <td>NaN</td>\n",
       "      <td>6</td>\n",
       "    </tr>\n",
       "    <tr>\n",
       "      <th>5265</th>\n",
       "      <td>3277.0</td>\n",
       "      <td>75.132684</td>\n",
       "      <td>100.000000</td>\n",
       "      <td>10180.369091</td>\n",
       "      <td>5.234907365011507</td>\n",
       "      <td>Sedentary</td>\n",
       "      <td>1</td>\n",
       "    </tr>\n",
       "    <tr>\n",
       "      <th>5870</th>\n",
       "      <td>1499.0</td>\n",
       "      <td>75.132684</td>\n",
       "      <td>96.833301</td>\n",
       "      <td>NaN</td>\n",
       "      <td>7.221605491090915</td>\n",
       "      <td>Sedentary</td>\n",
       "      <td>9</td>\n",
       "    </tr>\n",
       "    <tr>\n",
       "      <th>6135</th>\n",
       "      <td>1389.0</td>\n",
       "      <td>75.132684</td>\n",
       "      <td>96.558205</td>\n",
       "      <td>2240.873043</td>\n",
       "      <td>6.249638938845372</td>\n",
       "      <td>Highly_Active</td>\n",
       "      <td>7</td>\n",
       "    </tr>\n",
       "    <tr>\n",
       "      <th>6376</th>\n",
       "      <td>3218.0</td>\n",
       "      <td>75.132684</td>\n",
       "      <td>98.446205</td>\n",
       "      <td>8287.695252</td>\n",
       "      <td>4.174557486059257</td>\n",
       "      <td>Highly Active</td>\n",
       "      <td>10</td>\n",
       "    </tr>\n",
       "    <tr>\n",
       "      <th>6726</th>\n",
       "      <td>2338.0</td>\n",
       "      <td>75.132684</td>\n",
       "      <td>95.948327</td>\n",
       "      <td>3935.287388</td>\n",
       "      <td>9.145513040749627</td>\n",
       "      <td>Sedentary</td>\n",
       "      <td>1</td>\n",
       "    </tr>\n",
       "    <tr>\n",
       "      <th>6974</th>\n",
       "      <td>1935.0</td>\n",
       "      <td>75.132684</td>\n",
       "      <td>94.263021</td>\n",
       "      <td>25043.512031</td>\n",
       "      <td>5.452934114413052</td>\n",
       "      <td>Highly_Active</td>\n",
       "      <td>6</td>\n",
       "    </tr>\n",
       "    <tr>\n",
       "      <th>7897</th>\n",
       "      <td>3488.0</td>\n",
       "      <td>75.132684</td>\n",
       "      <td>93.422300</td>\n",
       "      <td>1167.050964</td>\n",
       "      <td>6.3843230507913775</td>\n",
       "      <td>Actve</td>\n",
       "      <td>7</td>\n",
       "    </tr>\n",
       "    <tr>\n",
       "      <th>8369</th>\n",
       "      <td>2283.0</td>\n",
       "      <td>75.132684</td>\n",
       "      <td>NaN</td>\n",
       "      <td>21495.639335</td>\n",
       "      <td>5.291653956497481</td>\n",
       "      <td>Highly_Active</td>\n",
       "      <td>2</td>\n",
       "    </tr>\n",
       "    <tr>\n",
       "      <th>8471</th>\n",
       "      <td>2706.0</td>\n",
       "      <td>75.132684</td>\n",
       "      <td>96.239663</td>\n",
       "      <td>19209.243829</td>\n",
       "      <td>7.26153538491556</td>\n",
       "      <td>Actve</td>\n",
       "      <td>9</td>\n",
       "    </tr>\n",
       "    <tr>\n",
       "      <th>8692</th>\n",
       "      <td>1698.0</td>\n",
       "      <td>75.132684</td>\n",
       "      <td>96.382266</td>\n",
       "      <td>3225.230149</td>\n",
       "      <td>6.801618776704774</td>\n",
       "      <td>Seddentary</td>\n",
       "      <td>6</td>\n",
       "    </tr>\n",
       "    <tr>\n",
       "      <th>8895</th>\n",
       "      <td>3294.0</td>\n",
       "      <td>75.132684</td>\n",
       "      <td>100.000000</td>\n",
       "      <td>18039.603487</td>\n",
       "      <td>7.064974772457126</td>\n",
       "      <td>Active</td>\n",
       "      <td>9</td>\n",
       "    </tr>\n",
       "    <tr>\n",
       "      <th>8997</th>\n",
       "      <td>NaN</td>\n",
       "      <td>75.132684</td>\n",
       "      <td>96.643436</td>\n",
       "      <td>4226.877196</td>\n",
       "      <td>5.2023674086270795</td>\n",
       "      <td>Highly_Active</td>\n",
       "      <td>3</td>\n",
       "    </tr>\n",
       "    <tr>\n",
       "      <th>9164</th>\n",
       "      <td>3381.0</td>\n",
       "      <td>75.132684</td>\n",
       "      <td>98.982453</td>\n",
       "      <td>5247.004522</td>\n",
       "      <td>9.026252817225515</td>\n",
       "      <td>Highly Active</td>\n",
       "      <td>6</td>\n",
       "    </tr>\n",
       "    <tr>\n",
       "      <th>9438</th>\n",
       "      <td>4411.0</td>\n",
       "      <td>75.132684</td>\n",
       "      <td>99.524016</td>\n",
       "      <td>11209.020829</td>\n",
       "      <td>ERROR</td>\n",
       "      <td>Highly Active</td>\n",
       "      <td>3</td>\n",
       "    </tr>\n",
       "    <tr>\n",
       "      <th>9654</th>\n",
       "      <td>2898.0</td>\n",
       "      <td>75.132684</td>\n",
       "      <td>96.082553</td>\n",
       "      <td>45.956119</td>\n",
       "      <td>5.63988977577483</td>\n",
       "      <td>Active</td>\n",
       "      <td>3</td>\n",
       "    </tr>\n",
       "    <tr>\n",
       "      <th>9665</th>\n",
       "      <td>2069.0</td>\n",
       "      <td>75.132684</td>\n",
       "      <td>96.509094</td>\n",
       "      <td>5002.019249</td>\n",
       "      <td>7.82197109767565</td>\n",
       "      <td>Seddentary</td>\n",
       "      <td>2</td>\n",
       "    </tr>\n",
       "    <tr>\n",
       "      <th>9752</th>\n",
       "      <td>4683.0</td>\n",
       "      <td>75.132684</td>\n",
       "      <td>97.371766</td>\n",
       "      <td>5759.938203</td>\n",
       "      <td>5.496136294267198</td>\n",
       "      <td>Sedentary</td>\n",
       "      <td>9</td>\n",
       "    </tr>\n",
       "  </tbody>\n",
       "</table>\n",
       "</div>"
      ],
      "text/plain": [
       "      User ID  Heart Rate (BPM)  Blood Oxygen Level (%)    Step Count  \\\n",
       "2      1860.0         75.132684               97.052954   2826.521994   \n",
       "337    2369.0         75.132684               95.441773   2998.761919   \n",
       "393    2443.0         75.132684               95.497181   1227.804688   \n",
       "403    3200.0         75.132684               96.011492   9402.746140   \n",
       "595    2129.0         75.132684               97.161853   2555.402184   \n",
       "649    2008.0         75.132684               98.356789   2739.171166   \n",
       "818    3156.0         75.132684                     NaN   7281.778831   \n",
       "1195   3261.0         75.132684               99.652006   2867.872064   \n",
       "1391   4621.0         75.132684               96.688083  20577.677290   \n",
       "1602   4737.0         75.132684               95.095839  16072.283561   \n",
       "2023      NaN         75.132684               99.032130  17620.765455   \n",
       "2211   2711.0         75.132684               97.852781   1786.998129   \n",
       "2212   4020.0         75.132684               95.280955   3794.430590   \n",
       "2338   1762.0         75.132684               96.026123   9969.240744   \n",
       "2454   4902.0         75.132684               97.092166  11843.255005   \n",
       "3113   1035.0         75.132684               94.120618   5303.010562   \n",
       "3235   4478.0         75.132684               97.295126   2402.047207   \n",
       "3354   4976.0         75.132684               96.703748   4265.937611   \n",
       "3451   2768.0         75.132684               96.761963   4723.116194   \n",
       "3886   3856.0         75.132684               96.440489    841.196042   \n",
       "3983   1597.0         75.132684               99.396872  23860.187292   \n",
       "4146   1574.0         75.132684               98.386439   4255.759517   \n",
       "4185   4643.0         75.132684               95.415588  54698.646371   \n",
       "4254   3563.0         75.132684               95.768379   5871.602913   \n",
       "4275   1844.0         75.132684               97.847790   1855.481139   \n",
       "4366   2655.0         75.132684              100.000000  11331.922879   \n",
       "4509   4642.0         75.132684               97.983060   8526.218347   \n",
       "4521   4629.0         75.132684              100.000000   5614.112857   \n",
       "4780   2003.0         75.132684               98.242375   5299.159731   \n",
       "4792   3530.0         75.132684               99.960103   5396.348537   \n",
       "4833   4829.0         75.132684               97.920202  17207.114700   \n",
       "5090   4797.0         75.132684               98.647925   2604.794451   \n",
       "5170   2023.0         75.132684               94.316370    789.259057   \n",
       "5265   3277.0         75.132684              100.000000  10180.369091   \n",
       "5870   1499.0         75.132684               96.833301           NaN   \n",
       "6135   1389.0         75.132684               96.558205   2240.873043   \n",
       "6376   3218.0         75.132684               98.446205   8287.695252   \n",
       "6726   2338.0         75.132684               95.948327   3935.287388   \n",
       "6974   1935.0         75.132684               94.263021  25043.512031   \n",
       "7897   3488.0         75.132684               93.422300   1167.050964   \n",
       "8369   2283.0         75.132684                     NaN  21495.639335   \n",
       "8471   2706.0         75.132684               96.239663  19209.243829   \n",
       "8692   1698.0         75.132684               96.382266   3225.230149   \n",
       "8895   3294.0         75.132684              100.000000  18039.603487   \n",
       "8997      NaN         75.132684               96.643436   4226.877196   \n",
       "9164   3381.0         75.132684               98.982453   5247.004522   \n",
       "9438   4411.0         75.132684               99.524016  11209.020829   \n",
       "9654   2898.0         75.132684               96.082553     45.956119   \n",
       "9665   2069.0         75.132684               96.509094   5002.019249   \n",
       "9752   4683.0         75.132684               97.371766   5759.938203   \n",
       "\n",
       "     Sleep Duration (hours) Activity Level Stress Level  \n",
       "2                     ERROR  Highly Active            5  \n",
       "337       6.670622263019579  Highly Active            9  \n",
       "393       5.185244686595328  Highly_Active            9  \n",
       "403       7.190062873693008  Highly_Active            9  \n",
       "595       5.928628388578222  Highly Active            7  \n",
       "649       7.272009723254014  Highly_Active          NaN  \n",
       "818       4.300171191258864      Sedentary            3  \n",
       "1195      7.218530947169898         Active            7  \n",
       "1391      8.049854248644627         Active            3  \n",
       "1602       6.98847026102848          Actve            6  \n",
       "2023      7.641814526532746      Sedentary          NaN  \n",
       "2211      9.403363125752087         Active            5  \n",
       "2212      9.471210427832666     Seddentary            2  \n",
       "2338      7.434143975499938      Sedentary            4  \n",
       "2454     4.8230739165423175      Sedentary            5  \n",
       "3113      5.216491298730846         Active            4  \n",
       "3235       8.40664811517765     Seddentary            3  \n",
       "3354      6.272040953618372     Seddentary            4  \n",
       "3451      7.656776835132766  Highly Active            3  \n",
       "3886        8.5141016110168     Seddentary            7  \n",
       "3983       9.72770039263133  Highly Active           10  \n",
       "4146      9.950312577595927      Sedentary            1  \n",
       "4185        8.4611474189254            NaN           10  \n",
       "4254      6.169674782300074          Actve            3  \n",
       "4275      7.103458436811003      Sedentary            5  \n",
       "4366      6.252116628792069          Actve            8  \n",
       "4509      7.157804627096766  Highly Active            1  \n",
       "4521      6.304731924019175         Active            2  \n",
       "4780      8.471284845728434         Active            1  \n",
       "4792       5.03699852197675          Actve            4  \n",
       "4833       5.93139606422032  Highly_Active            3  \n",
       "5090      4.604169369845159  Highly Active            1  \n",
       "5170      4.456316515329178            NaN            6  \n",
       "5265      5.234907365011507      Sedentary            1  \n",
       "5870      7.221605491090915      Sedentary            9  \n",
       "6135      6.249638938845372  Highly_Active            7  \n",
       "6376      4.174557486059257  Highly Active           10  \n",
       "6726      9.145513040749627      Sedentary            1  \n",
       "6974      5.452934114413052  Highly_Active            6  \n",
       "7897     6.3843230507913775          Actve            7  \n",
       "8369      5.291653956497481  Highly_Active            2  \n",
       "8471       7.26153538491556          Actve            9  \n",
       "8692      6.801618776704774     Seddentary            6  \n",
       "8895      7.064974772457126         Active            9  \n",
       "8997     5.2023674086270795  Highly_Active            3  \n",
       "9164      9.026252817225515  Highly Active            6  \n",
       "9438                  ERROR  Highly Active            3  \n",
       "9654       5.63988977577483         Active            3  \n",
       "9665       7.82197109767565     Seddentary            2  \n",
       "9752      5.496136294267198      Sedentary            9  "
      ]
     },
     "execution_count": 10,
     "metadata": {},
     "output_type": "execute_result"
    }
   ],
   "source": [
    "# Correcting heart rate values safely using .loc\n",
    "outlierHeartRaterows.loc[:, 'Heart Rate (BPM)'] = HeartRateMean\n",
    "nullHeartRaterows.loc[:, 'Heart Rate (BPM)'] = HeartRateMean\n",
    "\n",
    "# Now viewing the corrected outlier rows\n",
    "outlierHeartRaterows\n"
   ]
  },
  {
   "cell_type": "code",
   "execution_count": 11,
   "metadata": {},
   "outputs": [
    {
     "data": {
      "text/plain": [
       "True"
      ]
     },
     "execution_count": 11,
     "metadata": {},
     "output_type": "execute_result"
    }
   ],
   "source": [
    "# Calculate original HeartRateMean explicitly as Python float\n",
    "smartwatch_hr = pd.concat([outlierHeartRaterows, nullHeartRaterows, heartrateRows])\n",
    "# Calculate fullTableHRMean explicitly as Python float\n",
    "fullTableHRMean = float(smartwatch_hr['Heart Rate (BPM)'].mean())\n",
    "\n",
    "# Explicitly verify equality as a Python boolean\n",
    "HeartRateMean == fullTableHRMean\n"
   ]
  },
  {
   "cell_type": "code",
   "execution_count": 12,
   "metadata": {},
   "outputs": [
    {
     "name": "stdout",
     "output_type": "stream",
     "text": [
      "Minimum Heart Rate: 40.0\n",
      "Maximum Heart Rate: 296.5939695131042\n",
      "Heart Rate Mean: 75.13268404820141\n",
      "Validation Check: True\n"
     ]
    }
   ],
   "source": [
    "heart_rate_check = np.isclose(HeartRateMean, fullTableHRMean, atol=1e-6)\n",
    "\n",
    "# Print results\n",
    "print(f\"Minimum Heart Rate: {minimumHeartRate}\")\n",
    "print(f\"Maximum Heart Rate: {maximumHeartRate}\")\n",
    "print(f\"Heart Rate Mean: {HeartRateMean}\")\n",
    "print(f\"Validation Check: {heart_rate_check}\")"
   ]
  },
  {
   "cell_type": "code",
   "execution_count": 13,
   "metadata": {},
   "outputs": [
    {
     "data": {
      "text/html": [
       "<p><strong><pre style='display: inline;'>Question 2</pre></strong> passed! 🌈</p>"
      ],
      "text/plain": [
       "Question 2 results: All test cases passed!"
      ]
     },
     "execution_count": 13,
     "metadata": {},
     "output_type": "execute_result"
    }
   ],
   "source": [
    "grader.check('q2')"
   ]
  },
  {
   "cell_type": "markdown",
   "metadata": {},
   "source": [
    "Notice how the mean doesn't change when you use the imputed mean as the substituted values. However, as a note this will change the distribution of values and has the potential to obscure the causes of missing values or outliers. "
   ]
  },
  {
   "cell_type": "code",
   "execution_count": 14,
   "metadata": {},
   "outputs": [],
   "source": [
    "import seaborn as sns\n",
    "import matplotlib.pyplot as plt"
   ]
  },
  {
   "cell_type": "code",
   "execution_count": 15,
   "metadata": {},
   "outputs": [],
   "source": [
    "%matplotlib inline\n"
   ]
  },
  {
   "cell_type": "code",
   "execution_count": 16,
   "metadata": {},
   "outputs": [
    {
     "data": {
      "image/png": "[encoded data removed]",
      "text/plain": [
       "<Figure size 640x480 with 1 Axes>"
      ]
     },
     "metadata": {},
     "output_type": "display_data"
    }
   ],
   "source": [
    "import seaborn as sns\n",
    "import matplotlib.pyplot as plt\n",
    "\n",
    "sns.histplot(smartwatch['Heart Rate (BPM)'], label='With Missing Values and Outliers', color='blue', alpha=0.6)\n",
    "sns.histplot(smartwatch_hr['Heart Rate (BPM)'], label='With Mean as Imputed Value', color='orange', alpha=0.6)\n",
    "\n",
    "plt.xlabel('Heart Rate (BPM)')\n",
    "plt.ylabel('Frequency')\n",
    "plt.title('Heart Rate Distribution: Original vs. Imputed')\n",
    "plt.legend()\n",
    "\n",
    "plt.show()\n"
   ]
  },
  {
   "cell_type": "markdown",
   "metadata": {},
   "source": [
    "**Question 3**: How does the imputation method affect the median values?  Remember the table `smartwatch` remains unchanged and can be used to find the original median value. \n",
    "\n",
    "ANSWER: \n",
    "The original median value in `smartwatch` was **75.2206**, while after imputation, it changed to **75.1327**.  \n",
    "This slight decrease shows that replacing missing and outlier values with the **mean** shifts the distribution slightly, pulling the median closer to the mean.  \n",
    "\n",
    "Key Takeaways:\n",
    "- The median decreased due to replacing extreme values.\n",
    "- Mean imputation affects distribution, while **median imputation** would better preserve the median.\n",
    "- The impact depends on how outliers and missing values were distributed."
   ]
  },
  {
   "cell_type": "code",
   "execution_count": 17,
   "metadata": {},
   "outputs": [
    {
     "name": "stdout",
     "output_type": "stream",
     "text": [
      "75.22060125775644\n",
      "75.13268404820141\n"
     ]
    }
   ],
   "source": [
    "original_median = float(smartwatch['Heart Rate (BPM)'].median(skipna=True))\n",
    "imputed_median = float(smartwatch_hr['Heart Rate (BPM)'].median())\n",
    "\n",
    "# Display values\n",
    "print(original_median)  # Now it will show as a standard float\n",
    "print(imputed_median)\n",
    "\n"
   ]
  },
  {
   "cell_type": "markdown",
   "metadata": {},
   "source": [
    "Now let's repeat this process for the other columns as well. \n",
    "\n",
    "**Question 4**: Find the minimum, maximum, and mean Blood Oxygen Level. "
   ]
  },
  {
   "cell_type": "code",
   "execution_count": 18,
   "metadata": {},
   "outputs": [
    {
     "data": {
      "text/plain": [
       "(90.79120814564097, 100.0, 97.84158102099076)"
      ]
     },
     "execution_count": 18,
     "metadata": {},
     "output_type": "execute_result"
    }
   ],
   "source": [
    "# Convert to standard Python float\n",
    "minBloodO2 = float(smartwatch['Blood Oxygen Level (%)'].min(skipna=True))\n",
    "maxBloodO2 = float(smartwatch['Blood Oxygen Level (%)'].max(skipna=True))\n",
    "meanBloodO2 = float(smartwatch['Blood Oxygen Level (%)'].mean(skipna=True))\n",
    "\n",
    "# Display the cleaned values\n",
    "minBloodO2, maxBloodO2, meanBloodO2\n",
    "\n"
   ]
  },
  {
   "cell_type": "code",
   "execution_count": 19,
   "metadata": {},
   "outputs": [
    {
     "data": {
      "text/html": [
       "<p><strong><pre style='display: inline;'>Question 4</pre></strong> passed! 🚀</p>"
      ],
      "text/plain": [
       "Question 4 results: All test cases passed!"
      ]
     },
     "execution_count": 19,
     "metadata": {},
     "output_type": "execute_result"
    }
   ],
   "source": [
    "grader.check('q4')"
   ]
  },
  {
   "cell_type": "markdown",
   "metadata": {},
   "source": [
    "We can do some visualizations using a box plot to better decide if there's any outliers we'd like to remove. Maybe you decide that everything below 92.5 is an outlier should be removed or maybe you decide to keep all of the values or maybe you decide to remove all values under 94% since that falls outside of a normal, healthy range according to doctors (I would not suggest this last one as it would obscure quite a bit of data! But some analysts might consider it!). In question 5, you can make that decision and justify your answer. "
   ]
  },
  {
   "cell_type": "code",
   "execution_count": 20,
   "metadata": {},
   "outputs": [
    {
     "data": {
      "text/plain": [
       "<Axes: ylabel='Blood Oxygen Level (%)'>"
      ]
     },
     "execution_count": 20,
     "metadata": {},
     "output_type": "execute_result"
    },
    {
     "data": {
      "image/png": "[encoded data removed]",
      "text/plain": [
       "<Figure size 640x480 with 1 Axes>"
      ]
     },
     "metadata": {},
     "output_type": "display_data"
    }
   ],
   "source": [
    "sns.boxplot(smartwatch['Blood Oxygen Level (%)'])"
   ]
  },
  {
   "cell_type": "markdown",
   "metadata": {},
   "source": [
    "**Question 5**: Decide how you want to deal with missing and outlier values in the Blood Oxygen Level column. Set your final table equal to the variable `smartwatch_o2`. Use the space below to explain your decisions. \n",
    "\n",
    "Notes: Refer to [this article](https://pmc.ncbi.nlm.nih.gov/articles/PMC5548942/) on methods of handling these type of instances in data. Keep in mind, you might find that either there are no missing values or no outliers. That's okay, just indicate that in the written space below and update the table i.e. `smartwatch_o2 = smartwatch_hr`\n",
    "\n",
    "ANSWER: "
   ]
  },
  {
   "cell_type": "markdown",
   "metadata": {},
   "source": [
    "### **Answer to Question 5: Handling Blood Oxygen Level Data**\n",
    "- **Missing Values:** 300 missing values were filled using the median.\n",
    "- **Outliers:** 30 values below 92.59 were capped at 92.59, and values above 100 were capped at 100.\n",
    "- **Final Dataset (`smartwatch_o2`)** now has no missing values and a cleaned Blood Oxygen Level distribution."
   ]
  },
  {
   "cell_type": "code",
   "execution_count": 21,
   "metadata": {},
   "outputs": [
    {
     "name": "stdout",
     "output_type": "stream",
     "text": [
      "Missing values in Blood Oxygen Level (Before Imputation): 300\n"
     ]
    }
   ],
   "source": [
    "print(\"Missing values in Blood Oxygen Level (Before Imputation):\", smartwatch_hr['Blood Oxygen Level (%)'].isnull().sum())\n"
   ]
  },
  {
   "cell_type": "code",
   "execution_count": 22,
   "metadata": {},
   "outputs": [
    {
     "name": "stdout",
     "output_type": "stream",
     "text": [
      "Lower Bound for Outliers: 92.59243805432556\n",
      "Upper Bound for Outliers: 103.44642433074375\n",
      "Number of Outliers: 30\n"
     ]
    }
   ],
   "source": [
    "Q1 = smartwatch_hr['Blood Oxygen Level (%)'].quantile(0.25)\n",
    "Q3 = smartwatch_hr['Blood Oxygen Level (%)'].quantile(0.75)\n",
    "IQR = Q3 - Q1\n",
    "\n",
    "# Define lower and upper bounds\n",
    "lower_bound = Q1 - 1.5 * IQR\n",
    "upper_bound = Q3 + 1.5 * IQR\n",
    "\n",
    "print(f\"Lower Bound for Outliers: {lower_bound}\")\n",
    "print(f\"Upper Bound for Outliers: {upper_bound}\")\n",
    "\n",
    "# Count outliers\n",
    "outliers = smartwatch_hr[(smartwatch_hr['Blood Oxygen Level (%)'] < lower_bound) | \n",
    "                         (smartwatch_hr['Blood Oxygen Level (%)'] > upper_bound)]\n",
    "print(\"Number of Outliers:\", len(outliers))\n"
   ]
  },
  {
   "cell_type": "code",
   "execution_count": 23,
   "metadata": {},
   "outputs": [],
   "source": [
    "# Ensure smartwatch_o2 is defined correctly\n",
    "smartwatch_o2 = smartwatch_hr.copy()\n"
   ]
  },
  {
   "cell_type": "code",
   "execution_count": 24,
   "metadata": {},
   "outputs": [
    {
     "name": "stdout",
     "output_type": "stream",
     "text": [
      " Missing values successfully filled!\n"
     ]
    },
    {
     "name": "stderr",
     "output_type": "stream",
     "text": [
      "/tmp/ipykernel_81946/1825694430.py:5: FutureWarning: A value is trying to be set on a copy of a DataFrame or Series through chained assignment using an inplace method.\n",
      "The behavior will change in pandas 3.0. This inplace method will never work because the intermediate object on which we are setting values always behaves as a copy.\n",
      "\n",
      "For example, when doing 'df[col].method(value, inplace=True)', try using 'df.method({col: value}, inplace=True)' or df[col] = df[col].method(value) instead, to perform the operation inplace on the original object.\n",
      "\n",
      "\n",
      "  smartwatch_o2['Blood Oxygen Level (%)'].fillna(o2_median, inplace=True)\n"
     ]
    }
   ],
   "source": [
    "# Compute the correct median for Blood Oxygen Level\n",
    "o2_median = smartwatch_hr['Blood Oxygen Level (%)'].median()\n",
    "\n",
    "# Fill missing values with median\n",
    "smartwatch_o2['Blood Oxygen Level (%)'].fillna(o2_median, inplace=True)\n",
    "\n",
    "print(\" Missing values successfully filled!\")\n"
   ]
  },
  {
   "cell_type": "code",
   "execution_count": 25,
   "metadata": {},
   "outputs": [
    {
     "name": "stdout",
     "output_type": "stream",
     "text": [
      "Rows in smartwatch_o2: 10000\n",
      "Missing values in Blood Oxygen Level (After Imputation): 0\n"
     ]
    }
   ],
   "source": [
    "print(\"Rows in smartwatch_o2:\", len(smartwatch_o2))\n",
    "print(\"Missing values in Blood Oxygen Level (After Imputation):\", smartwatch_o2['Blood Oxygen Level (%)'].isnull().sum())\n"
   ]
  },
  {
   "cell_type": "code",
   "execution_count": 26,
   "metadata": {},
   "outputs": [
    {
     "name": "stdout",
     "output_type": "stream",
     "text": [
      "✅ Outliers successfully capped!\n"
     ]
    }
   ],
   "source": [
    "# Define lower and upper bounds for Blood Oxygen Level\n",
    "lower_bound = 92.59\n",
    "upper_bound = 100  # Cap at 100% since this is the physiological max\n",
    "\n",
    "# Clip outliers to keep data within valid range\n",
    "smartwatch_o2['Blood Oxygen Level (%)'] = smartwatch_o2['Blood Oxygen Level (%)'].clip(lower=lower_bound, upper=upper_bound)\n",
    "\n",
    "print(\"✅ Outliers successfully capped!\")\n"
   ]
  },
  {
   "cell_type": "code",
   "execution_count": 27,
   "metadata": {},
   "outputs": [
    {
     "data": {
      "image/png": "[encoded data removed]",
      "text/plain": [
       "<Figure size 640x480 with 1 Axes>"
      ]
     },
     "metadata": {},
     "output_type": "display_data"
    }
   ],
   "source": [
    "import seaborn as sns\n",
    "import matplotlib.pyplot as plt\n",
    "\n",
    "sns.boxplot(y=smartwatch_o2['Blood Oxygen Level (%)'])\n",
    "plt.title(\"Blood Oxygen Level After Handling Missing Values & Outliers\")\n",
    "plt.show()\n"
   ]
  },
  {
   "cell_type": "markdown",
   "metadata": {},
   "source": [
    "Moving onto the Step Count column. \n",
    "\n",
    "**Question 6**: Find the minimum, maximum, and mean step counts. "
   ]
  },
  {
   "cell_type": "code",
   "execution_count": 28,
   "metadata": {},
   "outputs": [
    {
     "name": "stdout",
     "output_type": "stream",
     "text": [
      "Computed Min Step Count: 0.9101380609604088\n",
      "Computed Max Step Count: 62486.690753464914\n",
      "Computed Mean Step Count: 6985.685884992229\n"
     ]
    }
   ],
   "source": [
    "import numpy as np\n",
    "\n",
    "# Compute Step Count Statistics\n",
    "minSteps = float(smartwatch_o2['Step Count'].min(skipna=True))\n",
    "maxSteps = float(smartwatch_o2['Step Count'].max(skipna=True))\n",
    "meanSteps = float(smartwatch_o2['Step Count'].mean(skipna=True))\n",
    "\n",
    "# Print actual values for debugging\n",
    "print(\"Computed Min Step Count:\", minSteps)\n",
    "print(\"Computed Max Step Count:\", maxSteps)\n",
    "print(\"Computed Mean Step Count:\", meanSteps)\n"
   ]
  },
  {
   "cell_type": "code",
   "execution_count": 29,
   "metadata": {},
   "outputs": [
    {
     "data": {
      "text/html": [
       "<p><strong><pre style='display: inline;'>Question 6</pre></strong> passed! 🙌</p>"
      ],
      "text/plain": [
       "Question 6 results: All test cases passed!"
      ]
     },
     "execution_count": 29,
     "metadata": {},
     "output_type": "execute_result"
    }
   ],
   "source": [
    "grader.check('q6')"
   ]
  },
  {
   "cell_type": "markdown",
   "metadata": {},
   "source": [
    "**Question 7**: Decide how you want to deal with missing and outlier values in the Steps column. Set your final table equal to the variable `smartwatch_steps`. Use the space below to explain your decisions. \n",
    "\n",
    "Notes: Refer to [this article](https://pmc.ncbi.nlm.nih.gov/articles/PMC5548942/) on methods of handling these type of instances in data. Keep in mind, you might find that either there are no missing values or no outliers. That's okay, just indicate that in the written space below and update the table i.e. `smartwatch_steps = smartwatch_o2`\n",
    "\n",
    "ANSWER: \n",
    " Handling Missing and Outlier Values in Step Count**\n",
    "I identified **100 missing values** and several outliers in the Step Count column.\n",
    "\n",
    "To ensure data quality:\n",
    "- I **filled missing values using the median** to preserve distribution.\n",
    "- I **capped extreme step counts** using the IQR method to avoid unrealistic values.\n",
    "\n",
    "The final cleaned dataset, `smartwatch_steps`, now accurately represents real-world step count trends.\n"
   ]
  },
  {
   "cell_type": "code",
   "execution_count": 30,
   "metadata": {},
   "outputs": [
    {
     "name": "stdout",
     "output_type": "stream",
     "text": [
      "Missing values in Step Count: 100\n"
     ]
    }
   ],
   "source": [
    "missing_steps = smartwatch_o2['Step Count'].isnull().sum()\n",
    "print(\"Missing values in Step Count:\", missing_steps)\n"
   ]
  },
  {
   "cell_type": "code",
   "execution_count": 31,
   "metadata": {},
   "outputs": [
    {
     "name": "stdout",
     "output_type": "stream",
     "text": [
      "Missing values in Step Count after imputation: 0\n"
     ]
    },
    {
     "name": "stderr",
     "output_type": "stream",
     "text": [
      "/tmp/ipykernel_81946/17311055.py:5: FutureWarning: A value is trying to be set on a copy of a DataFrame or Series through chained assignment using an inplace method.\n",
      "The behavior will change in pandas 3.0. This inplace method will never work because the intermediate object on which we are setting values always behaves as a copy.\n",
      "\n",
      "For example, when doing 'df[col].method(value, inplace=True)', try using 'df.method({col: value}, inplace=True)' or df[col] = df[col].method(value) instead, to perform the operation inplace on the original object.\n",
      "\n",
      "\n",
      "  smartwatch_o2['Step Count'].fillna(step_median, inplace=True)\n"
     ]
    }
   ],
   "source": [
    "# Compute the median of Step Count\n",
    "step_median = smartwatch_o2['Step Count'].median(skipna=True)\n",
    "\n",
    "# Fill missing values with the median\n",
    "smartwatch_o2['Step Count'].fillna(step_median, inplace=True)\n",
    "\n",
    "# Verify missing values are handled\n",
    "print(\"Missing values in Step Count after imputation:\", smartwatch_o2['Step Count'].isnull().sum())\n"
   ]
  },
  {
   "cell_type": "code",
   "execution_count": 32,
   "metadata": {},
   "outputs": [
    {
     "name": "stdout",
     "output_type": "stream",
     "text": [
      "Lower Bound for Outliers: 0\n",
      "Upper Bound for Outliers: 21144.291453190403\n",
      "Number of Outliers: 453\n"
     ]
    }
   ],
   "source": [
    "Q1 = smartwatch_o2['Step Count'].quantile(0.25)\n",
    "Q3 = smartwatch_o2['Step Count'].quantile(0.75)\n",
    "IQR = Q3 - Q1\n",
    "\n",
    "# Define lower and upper bounds\n",
    "lower_bound = max(0, Q1 - 1.5 * IQR)  # Step Count cannot be negative\n",
    "upper_bound = Q3 + 1.5 * IQR\n",
    "\n",
    "print(f\"Lower Bound for Outliers: {lower_bound}\")\n",
    "print(f\"Upper Bound for Outliers: {upper_bound}\")\n",
    "\n",
    "# Count outliers\n",
    "outliers = smartwatch_o2[(smartwatch_o2['Step Count'] < lower_bound) | \n",
    "                         (smartwatch_o2['Step Count'] > upper_bound)]\n",
    "print(\"Number of Outliers:\", len(outliers))\n"
   ]
  },
  {
   "cell_type": "code",
   "execution_count": 33,
   "metadata": {},
   "outputs": [
    {
     "name": "stdout",
     "output_type": "stream",
     "text": [
      "✅ Outliers capped successfully!\n"
     ]
    }
   ],
   "source": [
    "smartwatch_o2['Step Count'] = smartwatch_o2['Step Count'].clip(lower=0, upper=upper_bound)\n",
    "\n",
    "print(\"✅ Outliers capped successfully!\")\n"
   ]
  },
  {
   "cell_type": "code",
   "execution_count": 34,
   "metadata": {},
   "outputs": [],
   "source": [
    "# Final cleaned dataset\n",
    "smartwatch_steps = smartwatch_o2.copy()\n"
   ]
  },
  {
   "cell_type": "code",
   "execution_count": 35,
   "metadata": {},
   "outputs": [
    {
     "data": {
      "image/png": "[encoded data removed]",
      "text/plain": [
       "<Figure size 640x480 with 1 Axes>"
      ]
     },
     "metadata": {},
     "output_type": "display_data"
    }
   ],
   "source": [
    "import seaborn as sns\n",
    "import matplotlib.pyplot as plt\n",
    "\n",
    "sns.boxplot(y=smartwatch_steps['Step Count'])\n",
    "plt.title(\"Step Count After Handling Missing Values & Outliers\")\n",
    "plt.show()\n"
   ]
  },
  {
   "cell_type": "markdown",
   "metadata": {},
   "source": [
    "Next onto the Sleep Duration column. \n",
    "\n",
    "**Question 8**: Try finding the minimum number of hours slept among participants. "
   ]
  },
  {
   "cell_type": "code",
   "execution_count": 36,
   "metadata": {},
   "outputs": [
    {
     "ename": "TypeError",
     "evalue": "'<=' not supported between instances of 'str' and 'float'",
     "output_type": "error",
     "traceback": [
      "\u001b[0;31m---------------------------------------------------------------------------\u001b[0m",
      "\u001b[0;31mTypeError\u001b[0m                                 Traceback (most recent call last)",
      "Cell \u001b[0;32mIn[36], line 2\u001b[0m\n\u001b[1;32m      1\u001b[0m \u001b[38;5;66;03m# Compute the minimum sleep duration\u001b[39;00m\n\u001b[0;32m----> 2\u001b[0m minSleep \u001b[38;5;241m=\u001b[39m \u001b[43msmartwatch_steps\u001b[49m\u001b[43m[\u001b[49m\u001b[38;5;124;43m'\u001b[39;49m\u001b[38;5;124;43mSleep Duration (hours)\u001b[39;49m\u001b[38;5;124;43m'\u001b[39;49m\u001b[43m]\u001b[49m\u001b[38;5;241;43m.\u001b[39;49m\u001b[43mmin\u001b[49m\u001b[43m(\u001b[49m\u001b[43mskipna\u001b[49m\u001b[38;5;241;43m=\u001b[39;49m\u001b[38;5;28;43;01mTrue\u001b[39;49;00m\u001b[43m)\u001b[49m\n\u001b[1;32m      4\u001b[0m \u001b[38;5;66;03m# Print the result\u001b[39;00m\n\u001b[1;32m      5\u001b[0m \u001b[38;5;28mprint\u001b[39m(\u001b[38;5;124m\"\u001b[39m\u001b[38;5;124mMinimum Sleep Duration (hours):\u001b[39m\u001b[38;5;124m\"\u001b[39m, minSleep)\n",
      "File \u001b[0;32m~/.local/lib/python3.12/site-packages/pandas/core/series.py:6507\u001b[0m, in \u001b[0;36mSeries.min\u001b[0;34m(self, axis, skipna, numeric_only, **kwargs)\u001b[0m\n\u001b[1;32m   6499\u001b[0m \u001b[38;5;129m@doc\u001b[39m(make_doc(\u001b[38;5;124m\"\u001b[39m\u001b[38;5;124mmin\u001b[39m\u001b[38;5;124m\"\u001b[39m, ndim\u001b[38;5;241m=\u001b[39m\u001b[38;5;241m1\u001b[39m))\n\u001b[1;32m   6500\u001b[0m \u001b[38;5;28;01mdef\u001b[39;00m \u001b[38;5;21mmin\u001b[39m(\n\u001b[1;32m   6501\u001b[0m     \u001b[38;5;28mself\u001b[39m,\n\u001b[0;32m   (...)\u001b[0m\n\u001b[1;32m   6505\u001b[0m     \u001b[38;5;241m*\u001b[39m\u001b[38;5;241m*\u001b[39mkwargs,\n\u001b[1;32m   6506\u001b[0m ):\n\u001b[0;32m-> 6507\u001b[0m     \u001b[38;5;28;01mreturn\u001b[39;00m \u001b[43mNDFrame\u001b[49m\u001b[38;5;241;43m.\u001b[39;49m\u001b[43mmin\u001b[49m\u001b[43m(\u001b[49m\u001b[38;5;28;43mself\u001b[39;49m\u001b[43m,\u001b[49m\u001b[43m \u001b[49m\u001b[43maxis\u001b[49m\u001b[43m,\u001b[49m\u001b[43m \u001b[49m\u001b[43mskipna\u001b[49m\u001b[43m,\u001b[49m\u001b[43m \u001b[49m\u001b[43mnumeric_only\u001b[49m\u001b[43m,\u001b[49m\u001b[43m \u001b[49m\u001b[38;5;241;43m*\u001b[39;49m\u001b[38;5;241;43m*\u001b[39;49m\u001b[43mkwargs\u001b[49m\u001b[43m)\u001b[49m\n",
      "File \u001b[0;32m~/.local/lib/python3.12/site-packages/pandas/core/generic.py:12388\u001b[0m, in \u001b[0;36mNDFrame.min\u001b[0;34m(self, axis, skipna, numeric_only, **kwargs)\u001b[0m\n\u001b[1;32m  12381\u001b[0m \u001b[38;5;28;01mdef\u001b[39;00m \u001b[38;5;21mmin\u001b[39m(\n\u001b[1;32m  12382\u001b[0m     \u001b[38;5;28mself\u001b[39m,\n\u001b[1;32m  12383\u001b[0m     axis: Axis \u001b[38;5;241m|\u001b[39m \u001b[38;5;28;01mNone\u001b[39;00m \u001b[38;5;241m=\u001b[39m \u001b[38;5;241m0\u001b[39m,\n\u001b[0;32m   (...)\u001b[0m\n\u001b[1;32m  12386\u001b[0m     \u001b[38;5;241m*\u001b[39m\u001b[38;5;241m*\u001b[39mkwargs,\n\u001b[1;32m  12387\u001b[0m ):\n\u001b[0;32m> 12388\u001b[0m     \u001b[38;5;28;01mreturn\u001b[39;00m \u001b[38;5;28;43mself\u001b[39;49m\u001b[38;5;241;43m.\u001b[39;49m\u001b[43m_stat_function\u001b[49m\u001b[43m(\u001b[49m\n\u001b[1;32m  12389\u001b[0m \u001b[43m        \u001b[49m\u001b[38;5;124;43m\"\u001b[39;49m\u001b[38;5;124;43mmin\u001b[39;49m\u001b[38;5;124;43m\"\u001b[39;49m\u001b[43m,\u001b[49m\n\u001b[1;32m  12390\u001b[0m \u001b[43m        \u001b[49m\u001b[43mnanops\u001b[49m\u001b[38;5;241;43m.\u001b[39;49m\u001b[43mnanmin\u001b[49m\u001b[43m,\u001b[49m\n\u001b[1;32m  12391\u001b[0m \u001b[43m        \u001b[49m\u001b[43maxis\u001b[49m\u001b[43m,\u001b[49m\n\u001b[1;32m  12392\u001b[0m \u001b[43m        \u001b[49m\u001b[43mskipna\u001b[49m\u001b[43m,\u001b[49m\n\u001b[1;32m  12393\u001b[0m \u001b[43m        \u001b[49m\u001b[43mnumeric_only\u001b[49m\u001b[43m,\u001b[49m\n\u001b[1;32m  12394\u001b[0m \u001b[43m        \u001b[49m\u001b[38;5;241;43m*\u001b[39;49m\u001b[38;5;241;43m*\u001b[39;49m\u001b[43mkwargs\u001b[49m\u001b[43m,\u001b[49m\n\u001b[1;32m  12395\u001b[0m \u001b[43m    \u001b[49m\u001b[43m)\u001b[49m\n",
      "File \u001b[0;32m~/.local/lib/python3.12/site-packages/pandas/core/generic.py:12377\u001b[0m, in \u001b[0;36mNDFrame._stat_function\u001b[0;34m(self, name, func, axis, skipna, numeric_only, **kwargs)\u001b[0m\n\u001b[1;32m  12373\u001b[0m nv\u001b[38;5;241m.\u001b[39mvalidate_func(name, (), kwargs)\n\u001b[1;32m  12375\u001b[0m validate_bool_kwarg(skipna, \u001b[38;5;124m\"\u001b[39m\u001b[38;5;124mskipna\u001b[39m\u001b[38;5;124m\"\u001b[39m, none_allowed\u001b[38;5;241m=\u001b[39m\u001b[38;5;28;01mFalse\u001b[39;00m)\n\u001b[0;32m> 12377\u001b[0m \u001b[38;5;28;01mreturn\u001b[39;00m \u001b[38;5;28;43mself\u001b[39;49m\u001b[38;5;241;43m.\u001b[39;49m\u001b[43m_reduce\u001b[49m\u001b[43m(\u001b[49m\n\u001b[1;32m  12378\u001b[0m \u001b[43m    \u001b[49m\u001b[43mfunc\u001b[49m\u001b[43m,\u001b[49m\u001b[43m \u001b[49m\u001b[43mname\u001b[49m\u001b[38;5;241;43m=\u001b[39;49m\u001b[43mname\u001b[49m\u001b[43m,\u001b[49m\u001b[43m \u001b[49m\u001b[43maxis\u001b[49m\u001b[38;5;241;43m=\u001b[39;49m\u001b[43maxis\u001b[49m\u001b[43m,\u001b[49m\u001b[43m \u001b[49m\u001b[43mskipna\u001b[49m\u001b[38;5;241;43m=\u001b[39;49m\u001b[43mskipna\u001b[49m\u001b[43m,\u001b[49m\u001b[43m \u001b[49m\u001b[43mnumeric_only\u001b[49m\u001b[38;5;241;43m=\u001b[39;49m\u001b[43mnumeric_only\u001b[49m\n\u001b[1;32m  12379\u001b[0m \u001b[43m\u001b[49m\u001b[43m)\u001b[49m\n",
      "File \u001b[0;32m~/.local/lib/python3.12/site-packages/pandas/core/series.py:6457\u001b[0m, in \u001b[0;36mSeries._reduce\u001b[0;34m(self, op, name, axis, skipna, numeric_only, filter_type, **kwds)\u001b[0m\n\u001b[1;32m   6452\u001b[0m     \u001b[38;5;66;03m# GH#47500 - change to TypeError to match other methods\u001b[39;00m\n\u001b[1;32m   6453\u001b[0m     \u001b[38;5;28;01mraise\u001b[39;00m \u001b[38;5;167;01mTypeError\u001b[39;00m(\n\u001b[1;32m   6454\u001b[0m         \u001b[38;5;124mf\u001b[39m\u001b[38;5;124m\"\u001b[39m\u001b[38;5;124mSeries.\u001b[39m\u001b[38;5;132;01m{\u001b[39;00mname\u001b[38;5;132;01m}\u001b[39;00m\u001b[38;5;124m does not allow \u001b[39m\u001b[38;5;132;01m{\u001b[39;00mkwd_name\u001b[38;5;132;01m}\u001b[39;00m\u001b[38;5;124m=\u001b[39m\u001b[38;5;132;01m{\u001b[39;00mnumeric_only\u001b[38;5;132;01m}\u001b[39;00m\u001b[38;5;124m \u001b[39m\u001b[38;5;124m\"\u001b[39m\n\u001b[1;32m   6455\u001b[0m         \u001b[38;5;124m\"\u001b[39m\u001b[38;5;124mwith non-numeric dtypes.\u001b[39m\u001b[38;5;124m\"\u001b[39m\n\u001b[1;32m   6456\u001b[0m     )\n\u001b[0;32m-> 6457\u001b[0m \u001b[38;5;28;01mreturn\u001b[39;00m \u001b[43mop\u001b[49m\u001b[43m(\u001b[49m\u001b[43mdelegate\u001b[49m\u001b[43m,\u001b[49m\u001b[43m \u001b[49m\u001b[43mskipna\u001b[49m\u001b[38;5;241;43m=\u001b[39;49m\u001b[43mskipna\u001b[49m\u001b[43m,\u001b[49m\u001b[43m \u001b[49m\u001b[38;5;241;43m*\u001b[39;49m\u001b[38;5;241;43m*\u001b[39;49m\u001b[43mkwds\u001b[49m\u001b[43m)\u001b[49m\n",
      "File \u001b[0;32m~/.local/lib/python3.12/site-packages/pandas/core/nanops.py:147\u001b[0m, in \u001b[0;36mbottleneck_switch.__call__.<locals>.f\u001b[0;34m(values, axis, skipna, **kwds)\u001b[0m\n\u001b[1;32m    145\u001b[0m         result \u001b[38;5;241m=\u001b[39m alt(values, axis\u001b[38;5;241m=\u001b[39maxis, skipna\u001b[38;5;241m=\u001b[39mskipna, \u001b[38;5;241m*\u001b[39m\u001b[38;5;241m*\u001b[39mkwds)\n\u001b[1;32m    146\u001b[0m \u001b[38;5;28;01melse\u001b[39;00m:\n\u001b[0;32m--> 147\u001b[0m     result \u001b[38;5;241m=\u001b[39m \u001b[43malt\u001b[49m\u001b[43m(\u001b[49m\u001b[43mvalues\u001b[49m\u001b[43m,\u001b[49m\u001b[43m \u001b[49m\u001b[43maxis\u001b[49m\u001b[38;5;241;43m=\u001b[39;49m\u001b[43maxis\u001b[49m\u001b[43m,\u001b[49m\u001b[43m \u001b[49m\u001b[43mskipna\u001b[49m\u001b[38;5;241;43m=\u001b[39;49m\u001b[43mskipna\u001b[49m\u001b[43m,\u001b[49m\u001b[43m \u001b[49m\u001b[38;5;241;43m*\u001b[39;49m\u001b[38;5;241;43m*\u001b[39;49m\u001b[43mkwds\u001b[49m\u001b[43m)\u001b[49m\n\u001b[1;32m    149\u001b[0m \u001b[38;5;28;01mreturn\u001b[39;00m result\n",
      "File \u001b[0;32m~/.local/lib/python3.12/site-packages/pandas/core/nanops.py:404\u001b[0m, in \u001b[0;36m_datetimelike_compat.<locals>.new_func\u001b[0;34m(values, axis, skipna, mask, **kwargs)\u001b[0m\n\u001b[1;32m    401\u001b[0m \u001b[38;5;28;01mif\u001b[39;00m datetimelike \u001b[38;5;129;01mand\u001b[39;00m mask \u001b[38;5;129;01mis\u001b[39;00m \u001b[38;5;28;01mNone\u001b[39;00m:\n\u001b[1;32m    402\u001b[0m     mask \u001b[38;5;241m=\u001b[39m isna(values)\n\u001b[0;32m--> 404\u001b[0m result \u001b[38;5;241m=\u001b[39m \u001b[43mfunc\u001b[49m\u001b[43m(\u001b[49m\u001b[43mvalues\u001b[49m\u001b[43m,\u001b[49m\u001b[43m \u001b[49m\u001b[43maxis\u001b[49m\u001b[38;5;241;43m=\u001b[39;49m\u001b[43maxis\u001b[49m\u001b[43m,\u001b[49m\u001b[43m \u001b[49m\u001b[43mskipna\u001b[49m\u001b[38;5;241;43m=\u001b[39;49m\u001b[43mskipna\u001b[49m\u001b[43m,\u001b[49m\u001b[43m \u001b[49m\u001b[43mmask\u001b[49m\u001b[38;5;241;43m=\u001b[39;49m\u001b[43mmask\u001b[49m\u001b[43m,\u001b[49m\u001b[43m \u001b[49m\u001b[38;5;241;43m*\u001b[39;49m\u001b[38;5;241;43m*\u001b[39;49m\u001b[43mkwargs\u001b[49m\u001b[43m)\u001b[49m\n\u001b[1;32m    406\u001b[0m \u001b[38;5;28;01mif\u001b[39;00m datetimelike:\n\u001b[1;32m    407\u001b[0m     result \u001b[38;5;241m=\u001b[39m _wrap_results(result, orig_values\u001b[38;5;241m.\u001b[39mdtype, fill_value\u001b[38;5;241m=\u001b[39miNaT)\n",
      "File \u001b[0;32m~/.local/lib/python3.12/site-packages/pandas/core/nanops.py:1098\u001b[0m, in \u001b[0;36m_nanminmax.<locals>.reduction\u001b[0;34m(values, axis, skipna, mask)\u001b[0m\n\u001b[1;32m   1093\u001b[0m     \u001b[38;5;28;01mreturn\u001b[39;00m _na_for_min_count(values, axis)\n\u001b[1;32m   1095\u001b[0m values, mask \u001b[38;5;241m=\u001b[39m _get_values(\n\u001b[1;32m   1096\u001b[0m     values, skipna, fill_value_typ\u001b[38;5;241m=\u001b[39mfill_value_typ, mask\u001b[38;5;241m=\u001b[39mmask\n\u001b[1;32m   1097\u001b[0m )\n\u001b[0;32m-> 1098\u001b[0m result \u001b[38;5;241m=\u001b[39m \u001b[38;5;28;43mgetattr\u001b[39;49m\u001b[43m(\u001b[49m\u001b[43mvalues\u001b[49m\u001b[43m,\u001b[49m\u001b[43m \u001b[49m\u001b[43mmeth\u001b[49m\u001b[43m)\u001b[49m\u001b[43m(\u001b[49m\u001b[43maxis\u001b[49m\u001b[43m)\u001b[49m\n\u001b[1;32m   1099\u001b[0m result \u001b[38;5;241m=\u001b[39m _maybe_null_out(result, axis, mask, values\u001b[38;5;241m.\u001b[39mshape)\n\u001b[1;32m   1100\u001b[0m \u001b[38;5;28;01mreturn\u001b[39;00m result\n",
      "File \u001b[0;32m~/.local/lib/python3.12/site-packages/numpy/_core/_methods.py:48\u001b[0m, in \u001b[0;36m_amin\u001b[0;34m(a, axis, out, keepdims, initial, where)\u001b[0m\n\u001b[1;32m     46\u001b[0m \u001b[38;5;28;01mdef\u001b[39;00m \u001b[38;5;21m_amin\u001b[39m(a, axis\u001b[38;5;241m=\u001b[39m\u001b[38;5;28;01mNone\u001b[39;00m, out\u001b[38;5;241m=\u001b[39m\u001b[38;5;28;01mNone\u001b[39;00m, keepdims\u001b[38;5;241m=\u001b[39m\u001b[38;5;28;01mFalse\u001b[39;00m,\n\u001b[1;32m     47\u001b[0m           initial\u001b[38;5;241m=\u001b[39m_NoValue, where\u001b[38;5;241m=\u001b[39m\u001b[38;5;28;01mTrue\u001b[39;00m):\n\u001b[0;32m---> 48\u001b[0m     \u001b[38;5;28;01mreturn\u001b[39;00m \u001b[43mumr_minimum\u001b[49m\u001b[43m(\u001b[49m\u001b[43ma\u001b[49m\u001b[43m,\u001b[49m\u001b[43m \u001b[49m\u001b[43maxis\u001b[49m\u001b[43m,\u001b[49m\u001b[43m \u001b[49m\u001b[38;5;28;43;01mNone\u001b[39;49;00m\u001b[43m,\u001b[49m\u001b[43m \u001b[49m\u001b[43mout\u001b[49m\u001b[43m,\u001b[49m\u001b[43m \u001b[49m\u001b[43mkeepdims\u001b[49m\u001b[43m,\u001b[49m\u001b[43m \u001b[49m\u001b[43minitial\u001b[49m\u001b[43m,\u001b[49m\u001b[43m \u001b[49m\u001b[43mwhere\u001b[49m\u001b[43m)\u001b[49m\n",
      "\u001b[0;31mTypeError\u001b[0m: '<=' not supported between instances of 'str' and 'float'"
     ]
    }
   ],
   "source": [
    "# Compute the minimum sleep duration\n",
    "minSleep = smartwatch_steps['Sleep Duration (hours)'].min(skipna=True)\n",
    "\n",
    "# Print the result\n",
    "print(\"Minimum Sleep Duration (hours):\", minSleep)\n"
   ]
  },
  {
   "cell_type": "markdown",
   "metadata": {},
   "source": [
    "In the error message, you should see the phrase: \n",
    "\n",
    "`TypeError: '<=' not supported between instances of 'str' and 'float'`\n",
    "\n",
    "This means that the column is a combination of multiple data types. If you recall, we discussed computer readable data that columns HAVE to contain just a single data type. Having a combination of strings, characters, and numbers in a column will only cause more issues downstream. Let's try to figure out all the instances of non-numerical values in the column. \n",
    "\n",
    "First let's try to identify all the non-numerical values to make sure removing them doesn't obscure any important information. "
   ]
  },
  {
   "cell_type": "code",
   "execution_count": 37,
   "metadata": {},
   "outputs": [
    {
     "ename": "SyntaxError",
     "evalue": "cannot assign to ellipsis (145660629.py, line 1)",
     "output_type": "error",
     "traceback": [
      "\u001b[0;36m  Cell \u001b[0;32mIn[37], line 1\u001b[0;36m\u001b[0m\n\u001b[0;31m    for ... in smartwatch[...].unique():  ## Loop through each unique item in the column\u001b[0m\n\u001b[0m        ^\u001b[0m\n\u001b[0;31mSyntaxError\u001b[0m\u001b[0;31m:\u001b[0m cannot assign to ellipsis\n"
     ]
    }
   ],
   "source": [
    "for ... in smartwatch[...].unique():  ## Loop through each unique item in the column\n",
    "    try:\n",
    "        numericVal = float(...)  ## first try to see if it can be converted to a number\n",
    "    except:\n",
    "        print(...)  ## if it can't be converted print it to screen "
   ]
  },
  {
   "cell_type": "markdown",
   "metadata": {},
   "source": [
    "So, we find that the only non-numerical value is the string `ERROR`. We can fix this in two ways. First let's try fixing it by splitting the tables like we've done previously. "
   ]
  },
  {
   "cell_type": "code",
   "execution_count": 38,
   "metadata": {},
   "outputs": [
    {
     "data": {
      "text/html": [
       "<div>\n",
       "<style scoped>\n",
       "    .dataframe tbody tr th:only-of-type {\n",
       "        vertical-align: middle;\n",
       "    }\n",
       "\n",
       "    .dataframe tbody tr th {\n",
       "        vertical-align: top;\n",
       "    }\n",
       "\n",
       "    .dataframe thead th {\n",
       "        text-align: right;\n",
       "    }\n",
       "</style>\n",
       "<table border=\"1\" class=\"dataframe\">\n",
       "  <thead>\n",
       "    <tr style=\"text-align: right;\">\n",
       "      <th></th>\n",
       "      <th>User ID</th>\n",
       "      <th>Heart Rate (BPM)</th>\n",
       "      <th>Blood Oxygen Level (%)</th>\n",
       "      <th>Step Count</th>\n",
       "      <th>Sleep Duration (hours)</th>\n",
       "      <th>Activity Level</th>\n",
       "      <th>Stress Level</th>\n",
       "    </tr>\n",
       "  </thead>\n",
       "  <tbody>\n",
       "    <tr>\n",
       "      <th>2</th>\n",
       "      <td>1860.0</td>\n",
       "      <td>75.132684</td>\n",
       "      <td>97.052954</td>\n",
       "      <td>2826.521994</td>\n",
       "      <td>ERROR</td>\n",
       "      <td>Highly Active</td>\n",
       "      <td>5</td>\n",
       "    </tr>\n",
       "    <tr>\n",
       "      <th>9438</th>\n",
       "      <td>4411.0</td>\n",
       "      <td>75.132684</td>\n",
       "      <td>99.524016</td>\n",
       "      <td>11209.020829</td>\n",
       "      <td>ERROR</td>\n",
       "      <td>Highly Active</td>\n",
       "      <td>3</td>\n",
       "    </tr>\n",
       "    <tr>\n",
       "      <th>1262</th>\n",
       "      <td>4465.0</td>\n",
       "      <td>75.132684</td>\n",
       "      <td>97.113032</td>\n",
       "      <td>51.448103</td>\n",
       "      <td>ERROR</td>\n",
       "      <td>Highly_Active</td>\n",
       "      <td>6</td>\n",
       "    </tr>\n",
       "    <tr>\n",
       "      <th>2039</th>\n",
       "      <td>1492.0</td>\n",
       "      <td>75.132684</td>\n",
       "      <td>98.223658</td>\n",
       "      <td>7741.843501</td>\n",
       "      <td>ERROR</td>\n",
       "      <td>Highly_Active</td>\n",
       "      <td>5</td>\n",
       "    </tr>\n",
       "    <tr>\n",
       "      <th>2543</th>\n",
       "      <td>4441.0</td>\n",
       "      <td>75.132684</td>\n",
       "      <td>100.000000</td>\n",
       "      <td>12917.213806</td>\n",
       "      <td>ERROR</td>\n",
       "      <td>Sedentary</td>\n",
       "      <td>6</td>\n",
       "    </tr>\n",
       "    <tr>\n",
       "      <th>...</th>\n",
       "      <td>...</td>\n",
       "      <td>...</td>\n",
       "      <td>...</td>\n",
       "      <td>...</td>\n",
       "      <td>...</td>\n",
       "      <td>...</td>\n",
       "      <td>...</td>\n",
       "    </tr>\n",
       "    <tr>\n",
       "      <th>9901</th>\n",
       "      <td>2269.0</td>\n",
       "      <td>63.369107</td>\n",
       "      <td>96.229029</td>\n",
       "      <td>6656.786482</td>\n",
       "      <td>ERROR</td>\n",
       "      <td>Active</td>\n",
       "      <td>4</td>\n",
       "    </tr>\n",
       "    <tr>\n",
       "      <th>9912</th>\n",
       "      <td>2074.0</td>\n",
       "      <td>75.933666</td>\n",
       "      <td>97.386073</td>\n",
       "      <td>1813.072248</td>\n",
       "      <td>ERROR</td>\n",
       "      <td>Sedentary</td>\n",
       "      <td>10</td>\n",
       "    </tr>\n",
       "    <tr>\n",
       "      <th>9927</th>\n",
       "      <td>3007.0</td>\n",
       "      <td>87.579045</td>\n",
       "      <td>98.768633</td>\n",
       "      <td>3727.161872</td>\n",
       "      <td>ERROR</td>\n",
       "      <td>Active</td>\n",
       "      <td>1</td>\n",
       "    </tr>\n",
       "    <tr>\n",
       "      <th>9943</th>\n",
       "      <td>2961.0</td>\n",
       "      <td>91.834863</td>\n",
       "      <td>96.145378</td>\n",
       "      <td>21144.291453</td>\n",
       "      <td>ERROR</td>\n",
       "      <td>Active</td>\n",
       "      <td>4</td>\n",
       "    </tr>\n",
       "    <tr>\n",
       "      <th>9951</th>\n",
       "      <td>3104.0</td>\n",
       "      <td>70.335328</td>\n",
       "      <td>98.560133</td>\n",
       "      <td>1997.442874</td>\n",
       "      <td>ERROR</td>\n",
       "      <td>Highly_Active</td>\n",
       "      <td>9</td>\n",
       "    </tr>\n",
       "  </tbody>\n",
       "</table>\n",
       "<p>247 rows × 7 columns</p>\n",
       "</div>"
      ],
      "text/plain": [
       "      User ID  Heart Rate (BPM)  Blood Oxygen Level (%)    Step Count  \\\n",
       "2      1860.0         75.132684               97.052954   2826.521994   \n",
       "9438   4411.0         75.132684               99.524016  11209.020829   \n",
       "1262   4465.0         75.132684               97.113032     51.448103   \n",
       "2039   1492.0         75.132684               98.223658   7741.843501   \n",
       "2543   4441.0         75.132684              100.000000  12917.213806   \n",
       "...       ...               ...                     ...           ...   \n",
       "9901   2269.0         63.369107               96.229029   6656.786482   \n",
       "9912   2074.0         75.933666               97.386073   1813.072248   \n",
       "9927   3007.0         87.579045               98.768633   3727.161872   \n",
       "9943   2961.0         91.834863               96.145378  21144.291453   \n",
       "9951   3104.0         70.335328               98.560133   1997.442874   \n",
       "\n",
       "     Sleep Duration (hours) Activity Level Stress Level  \n",
       "2                     ERROR  Highly Active            5  \n",
       "9438                  ERROR  Highly Active            3  \n",
       "1262                  ERROR  Highly_Active            6  \n",
       "2039                  ERROR  Highly_Active            5  \n",
       "2543                  ERROR      Sedentary            6  \n",
       "...                     ...            ...          ...  \n",
       "9901                  ERROR         Active            4  \n",
       "9912                  ERROR      Sedentary           10  \n",
       "9927                  ERROR         Active            1  \n",
       "9943                  ERROR         Active            4  \n",
       "9951                  ERROR  Highly_Active            9  \n",
       "\n",
       "[247 rows x 7 columns]"
      ]
     },
     "execution_count": 38,
     "metadata": {},
     "output_type": "execute_result"
    }
   ],
   "source": [
    "errorTable = smartwatch_steps[smartwatch_steps['Sleep Duration (hours)'] == 'ERROR']\n",
    "errorTable"
   ]
  },
  {
   "cell_type": "markdown",
   "metadata": {},
   "source": [
    "Observe that we've created a table with the rows with `ERROR` in the sleep duration column. We can now replace with the `ERROR` value with our handy NaN value for doing numerical statistics. "
   ]
  },
  {
   "cell_type": "code",
   "execution_count": 39,
   "metadata": {},
   "outputs": [
    {
     "name": "stderr",
     "output_type": "stream",
     "text": [
      "/tmp/ipykernel_81946/2302362292.py:1: SettingWithCopyWarning: \n",
      "A value is trying to be set on a copy of a slice from a DataFrame.\n",
      "Try using .loc[row_indexer,col_indexer] = value instead\n",
      "\n",
      "See the caveats in the documentation: https://pandas.pydata.org/pandas-docs/stable/user_guide/indexing.html#returning-a-view-versus-a-copy\n",
      "  errorTable['Sleep Duration (hours)'] = np.nan\n"
     ]
    },
    {
     "data": {
      "text/html": [
       "<div>\n",
       "<style scoped>\n",
       "    .dataframe tbody tr th:only-of-type {\n",
       "        vertical-align: middle;\n",
       "    }\n",
       "\n",
       "    .dataframe tbody tr th {\n",
       "        vertical-align: top;\n",
       "    }\n",
       "\n",
       "    .dataframe thead th {\n",
       "        text-align: right;\n",
       "    }\n",
       "</style>\n",
       "<table border=\"1\" class=\"dataframe\">\n",
       "  <thead>\n",
       "    <tr style=\"text-align: right;\">\n",
       "      <th></th>\n",
       "      <th>User ID</th>\n",
       "      <th>Heart Rate (BPM)</th>\n",
       "      <th>Blood Oxygen Level (%)</th>\n",
       "      <th>Step Count</th>\n",
       "      <th>Sleep Duration (hours)</th>\n",
       "      <th>Activity Level</th>\n",
       "      <th>Stress Level</th>\n",
       "    </tr>\n",
       "  </thead>\n",
       "  <tbody>\n",
       "    <tr>\n",
       "      <th>2</th>\n",
       "      <td>1860.0</td>\n",
       "      <td>75.132684</td>\n",
       "      <td>97.052954</td>\n",
       "      <td>2826.521994</td>\n",
       "      <td>NaN</td>\n",
       "      <td>Highly Active</td>\n",
       "      <td>5</td>\n",
       "    </tr>\n",
       "    <tr>\n",
       "      <th>9438</th>\n",
       "      <td>4411.0</td>\n",
       "      <td>75.132684</td>\n",
       "      <td>99.524016</td>\n",
       "      <td>11209.020829</td>\n",
       "      <td>NaN</td>\n",
       "      <td>Highly Active</td>\n",
       "      <td>3</td>\n",
       "    </tr>\n",
       "    <tr>\n",
       "      <th>1262</th>\n",
       "      <td>4465.0</td>\n",
       "      <td>75.132684</td>\n",
       "      <td>97.113032</td>\n",
       "      <td>51.448103</td>\n",
       "      <td>NaN</td>\n",
       "      <td>Highly_Active</td>\n",
       "      <td>6</td>\n",
       "    </tr>\n",
       "    <tr>\n",
       "      <th>2039</th>\n",
       "      <td>1492.0</td>\n",
       "      <td>75.132684</td>\n",
       "      <td>98.223658</td>\n",
       "      <td>7741.843501</td>\n",
       "      <td>NaN</td>\n",
       "      <td>Highly_Active</td>\n",
       "      <td>5</td>\n",
       "    </tr>\n",
       "    <tr>\n",
       "      <th>2543</th>\n",
       "      <td>4441.0</td>\n",
       "      <td>75.132684</td>\n",
       "      <td>100.000000</td>\n",
       "      <td>12917.213806</td>\n",
       "      <td>NaN</td>\n",
       "      <td>Sedentary</td>\n",
       "      <td>6</td>\n",
       "    </tr>\n",
       "    <tr>\n",
       "      <th>...</th>\n",
       "      <td>...</td>\n",
       "      <td>...</td>\n",
       "      <td>...</td>\n",
       "      <td>...</td>\n",
       "      <td>...</td>\n",
       "      <td>...</td>\n",
       "      <td>...</td>\n",
       "    </tr>\n",
       "    <tr>\n",
       "      <th>9901</th>\n",
       "      <td>2269.0</td>\n",
       "      <td>63.369107</td>\n",
       "      <td>96.229029</td>\n",
       "      <td>6656.786482</td>\n",
       "      <td>NaN</td>\n",
       "      <td>Active</td>\n",
       "      <td>4</td>\n",
       "    </tr>\n",
       "    <tr>\n",
       "      <th>9912</th>\n",
       "      <td>2074.0</td>\n",
       "      <td>75.933666</td>\n",
       "      <td>97.386073</td>\n",
       "      <td>1813.072248</td>\n",
       "      <td>NaN</td>\n",
       "      <td>Sedentary</td>\n",
       "      <td>10</td>\n",
       "    </tr>\n",
       "    <tr>\n",
       "      <th>9927</th>\n",
       "      <td>3007.0</td>\n",
       "      <td>87.579045</td>\n",
       "      <td>98.768633</td>\n",
       "      <td>3727.161872</td>\n",
       "      <td>NaN</td>\n",
       "      <td>Active</td>\n",
       "      <td>1</td>\n",
       "    </tr>\n",
       "    <tr>\n",
       "      <th>9943</th>\n",
       "      <td>2961.0</td>\n",
       "      <td>91.834863</td>\n",
       "      <td>96.145378</td>\n",
       "      <td>21144.291453</td>\n",
       "      <td>NaN</td>\n",
       "      <td>Active</td>\n",
       "      <td>4</td>\n",
       "    </tr>\n",
       "    <tr>\n",
       "      <th>9951</th>\n",
       "      <td>3104.0</td>\n",
       "      <td>70.335328</td>\n",
       "      <td>98.560133</td>\n",
       "      <td>1997.442874</td>\n",
       "      <td>NaN</td>\n",
       "      <td>Highly_Active</td>\n",
       "      <td>9</td>\n",
       "    </tr>\n",
       "  </tbody>\n",
       "</table>\n",
       "<p>247 rows × 7 columns</p>\n",
       "</div>"
      ],
      "text/plain": [
       "      User ID  Heart Rate (BPM)  Blood Oxygen Level (%)    Step Count  \\\n",
       "2      1860.0         75.132684               97.052954   2826.521994   \n",
       "9438   4411.0         75.132684               99.524016  11209.020829   \n",
       "1262   4465.0         75.132684               97.113032     51.448103   \n",
       "2039   1492.0         75.132684               98.223658   7741.843501   \n",
       "2543   4441.0         75.132684              100.000000  12917.213806   \n",
       "...       ...               ...                     ...           ...   \n",
       "9901   2269.0         63.369107               96.229029   6656.786482   \n",
       "9912   2074.0         75.933666               97.386073   1813.072248   \n",
       "9927   3007.0         87.579045               98.768633   3727.161872   \n",
       "9943   2961.0         91.834863               96.145378  21144.291453   \n",
       "9951   3104.0         70.335328               98.560133   1997.442874   \n",
       "\n",
       "      Sleep Duration (hours) Activity Level Stress Level  \n",
       "2                        NaN  Highly Active            5  \n",
       "9438                     NaN  Highly Active            3  \n",
       "1262                     NaN  Highly_Active            6  \n",
       "2039                     NaN  Highly_Active            5  \n",
       "2543                     NaN      Sedentary            6  \n",
       "...                      ...            ...          ...  \n",
       "9901                     NaN         Active            4  \n",
       "9912                     NaN      Sedentary           10  \n",
       "9927                     NaN         Active            1  \n",
       "9943                     NaN         Active            4  \n",
       "9951                     NaN  Highly_Active            9  \n",
       "\n",
       "[247 rows x 7 columns]"
      ]
     },
     "execution_count": 39,
     "metadata": {},
     "output_type": "execute_result"
    }
   ],
   "source": [
    "errorTable['Sleep Duration (hours)'] = np.nan\n",
    "\n",
    "errorTable"
   ]
  },
  {
   "cell_type": "markdown",
   "metadata": {},
   "source": [
    "Now we could go through and put the tables back together, but another method to do this is to use a built-in function to pandas called `pd.to_numeric()`. Let's try that. "
   ]
  },
  {
   "cell_type": "code",
   "execution_count": 40,
   "metadata": {},
   "outputs": [
    {
     "data": {
      "text/html": [
       "<div>\n",
       "<style scoped>\n",
       "    .dataframe tbody tr th:only-of-type {\n",
       "        vertical-align: middle;\n",
       "    }\n",
       "\n",
       "    .dataframe tbody tr th {\n",
       "        vertical-align: top;\n",
       "    }\n",
       "\n",
       "    .dataframe thead th {\n",
       "        text-align: right;\n",
       "    }\n",
       "</style>\n",
       "<table border=\"1\" class=\"dataframe\">\n",
       "  <thead>\n",
       "    <tr style=\"text-align: right;\">\n",
       "      <th></th>\n",
       "      <th>User ID</th>\n",
       "      <th>Heart Rate (BPM)</th>\n",
       "      <th>Blood Oxygen Level (%)</th>\n",
       "      <th>Step Count</th>\n",
       "      <th>Sleep Duration (hours)</th>\n",
       "      <th>Activity Level</th>\n",
       "      <th>Stress Level</th>\n",
       "    </tr>\n",
       "  </thead>\n",
       "  <tbody>\n",
       "    <tr>\n",
       "      <th>2</th>\n",
       "      <td>1860.0</td>\n",
       "      <td>75.132684</td>\n",
       "      <td>97.052954</td>\n",
       "      <td>2826.521994</td>\n",
       "      <td>NaN</td>\n",
       "      <td>Highly Active</td>\n",
       "      <td>5</td>\n",
       "    </tr>\n",
       "    <tr>\n",
       "      <th>337</th>\n",
       "      <td>2369.0</td>\n",
       "      <td>75.132684</td>\n",
       "      <td>95.441773</td>\n",
       "      <td>2998.761919</td>\n",
       "      <td>6.670622</td>\n",
       "      <td>Highly Active</td>\n",
       "      <td>9</td>\n",
       "    </tr>\n",
       "    <tr>\n",
       "      <th>393</th>\n",
       "      <td>2443.0</td>\n",
       "      <td>75.132684</td>\n",
       "      <td>95.497181</td>\n",
       "      <td>1227.804688</td>\n",
       "      <td>5.185245</td>\n",
       "      <td>Highly_Active</td>\n",
       "      <td>9</td>\n",
       "    </tr>\n",
       "    <tr>\n",
       "      <th>403</th>\n",
       "      <td>3200.0</td>\n",
       "      <td>75.132684</td>\n",
       "      <td>96.011492</td>\n",
       "      <td>9402.746140</td>\n",
       "      <td>7.190063</td>\n",
       "      <td>Highly_Active</td>\n",
       "      <td>9</td>\n",
       "    </tr>\n",
       "    <tr>\n",
       "      <th>595</th>\n",
       "      <td>2129.0</td>\n",
       "      <td>75.132684</td>\n",
       "      <td>97.161853</td>\n",
       "      <td>2555.402184</td>\n",
       "      <td>5.928628</td>\n",
       "      <td>Highly Active</td>\n",
       "      <td>7</td>\n",
       "    </tr>\n",
       "    <tr>\n",
       "      <th>...</th>\n",
       "      <td>...</td>\n",
       "      <td>...</td>\n",
       "      <td>...</td>\n",
       "      <td>...</td>\n",
       "      <td>...</td>\n",
       "      <td>...</td>\n",
       "      <td>...</td>\n",
       "    </tr>\n",
       "    <tr>\n",
       "      <th>9994</th>\n",
       "      <td>1942.0</td>\n",
       "      <td>77.912299</td>\n",
       "      <td>98.640583</td>\n",
       "      <td>10061.145291</td>\n",
       "      <td>5.428635</td>\n",
       "      <td>Seddentary</td>\n",
       "      <td>10</td>\n",
       "    </tr>\n",
       "    <tr>\n",
       "      <th>9995</th>\n",
       "      <td>1524.0</td>\n",
       "      <td>78.819386</td>\n",
       "      <td>98.931927</td>\n",
       "      <td>2948.491953</td>\n",
       "      <td>7.402749</td>\n",
       "      <td>Active</td>\n",
       "      <td>7</td>\n",
       "    </tr>\n",
       "    <tr>\n",
       "      <th>9996</th>\n",
       "      <td>4879.0</td>\n",
       "      <td>48.632659</td>\n",
       "      <td>95.773035</td>\n",
       "      <td>4725.623070</td>\n",
       "      <td>6.382166</td>\n",
       "      <td>Sedentary</td>\n",
       "      <td>2</td>\n",
       "    </tr>\n",
       "    <tr>\n",
       "      <th>9997</th>\n",
       "      <td>2624.0</td>\n",
       "      <td>73.834442</td>\n",
       "      <td>97.945874</td>\n",
       "      <td>2571.492060</td>\n",
       "      <td>6.916549</td>\n",
       "      <td>Sedentary</td>\n",
       "      <td>4</td>\n",
       "    </tr>\n",
       "    <tr>\n",
       "      <th>9999</th>\n",
       "      <td>4113.0</td>\n",
       "      <td>70.063864</td>\n",
       "      <td>98.475606</td>\n",
       "      <td>544.696104</td>\n",
       "      <td>5.691001</td>\n",
       "      <td>Actve</td>\n",
       "      <td>5</td>\n",
       "    </tr>\n",
       "  </tbody>\n",
       "</table>\n",
       "<p>10000 rows × 7 columns</p>\n",
       "</div>"
      ],
      "text/plain": [
       "      User ID  Heart Rate (BPM)  Blood Oxygen Level (%)    Step Count  \\\n",
       "2      1860.0         75.132684               97.052954   2826.521994   \n",
       "337    2369.0         75.132684               95.441773   2998.761919   \n",
       "393    2443.0         75.132684               95.497181   1227.804688   \n",
       "403    3200.0         75.132684               96.011492   9402.746140   \n",
       "595    2129.0         75.132684               97.161853   2555.402184   \n",
       "...       ...               ...                     ...           ...   \n",
       "9994   1942.0         77.912299               98.640583  10061.145291   \n",
       "9995   1524.0         78.819386               98.931927   2948.491953   \n",
       "9996   4879.0         48.632659               95.773035   4725.623070   \n",
       "9997   2624.0         73.834442               97.945874   2571.492060   \n",
       "9999   4113.0         70.063864               98.475606    544.696104   \n",
       "\n",
       "      Sleep Duration (hours) Activity Level Stress Level  \n",
       "2                        NaN  Highly Active            5  \n",
       "337                 6.670622  Highly Active            9  \n",
       "393                 5.185245  Highly_Active            9  \n",
       "403                 7.190063  Highly_Active            9  \n",
       "595                 5.928628  Highly Active            7  \n",
       "...                      ...            ...          ...  \n",
       "9994                5.428635     Seddentary           10  \n",
       "9995                7.402749         Active            7  \n",
       "9996                6.382166      Sedentary            2  \n",
       "9997                6.916549      Sedentary            4  \n",
       "9999                5.691001          Actve            5  \n",
       "\n",
       "[10000 rows x 7 columns]"
      ]
     },
     "execution_count": 40,
     "metadata": {},
     "output_type": "execute_result"
    }
   ],
   "source": [
    "## create a copy of the table \n",
    "smartwatch_sleep = smartwatch_steps\n",
    "\n",
    "smartwatch_sleep['Sleep Duration (hours)'] = pd.to_numeric(smartwatch_sleep['Sleep Duration (hours)'], errors='coerce')\n",
    "\n",
    "smartwatch_sleep"
   ]
  },
  {
   "cell_type": "markdown",
   "metadata": {},
   "source": [
    "Now we can finish **Question 8** and find the minimum, maximum, and mean of the sleep duration column. "
   ]
  },
  {
   "cell_type": "code",
   "execution_count": 41,
   "metadata": {},
   "outputs": [
    {
     "name": "stdout",
     "output_type": "stream",
     "text": [
      "Minimum Sleep Duration (hours): -0.1944527906201543\n",
      "Maximum Sleep Duration (hours): 12.140232872862926\n",
      "Mean Sleep Duration (hours): 6.505462918406444\n"
     ]
    }
   ],
   "source": [
    "# Compute sleep duration statistics\n",
    "minSleep = smartwatch_steps['Sleep Duration (hours)'].min(skipna=True)\n",
    "maxSleep = smartwatch_steps['Sleep Duration (hours)'].max(skipna=True)\n",
    "meanSleep = smartwatch_steps['Sleep Duration (hours)'].mean(skipna=True)\n",
    "\n",
    "# Print the results\n",
    "print(\"Minimum Sleep Duration (hours):\", minSleep)\n",
    "print(\"Maximum Sleep Duration (hours):\", maxSleep)\n",
    "print(\"Mean Sleep Duration (hours):\", meanSleep)\n"
   ]
  },
  {
   "cell_type": "code",
   "execution_count": 42,
   "metadata": {},
   "outputs": [
    {
     "data": {
      "text/html": [
       "<p><strong><pre style='display: inline;'>Question 8</pre></strong> passed! 🚀</p>"
      ],
      "text/plain": [
       "Question 8 results: All test cases passed!"
      ]
     },
     "execution_count": 42,
     "metadata": {},
     "output_type": "execute_result"
    }
   ],
   "source": [
    "grader.check('q8')"
   ]
  },
  {
   "cell_type": "markdown",
   "metadata": {},
   "source": [
    "**Question 9**: Decide how you want to deal with missing and outlier values in the sleep column. Set your final table equal to the variable `smartwatch_updated_sleep`. Use the space below to explain your decisions. \n",
    "\n",
    "*Remember to start with the `smartwatch_sleep` table that we just created.*\n",
    "\n",
    "Notes: Refer to [this article](https://pmc.ncbi.nlm.nih.gov/articles/PMC5548942/) on methods of handling these type of instances in data. Keep in mind, you might find that either there are no missing values or no outliers. That's okay, just indicate that in the written space below and update the table i.e. `smartwatch_updated_sleep = smartwatch_sleep`\n",
    "\n",
    "ANSWER: \n",
    "\n",
    "...."
   ]
  },
  {
   "cell_type": "code",
   "execution_count": 43,
   "metadata": {},
   "outputs": [
    {
     "name": "stdout",
     "output_type": "stream",
     "text": [
      "Missing values in Sleep Duration: 397\n"
     ]
    }
   ],
   "source": [
    "# Count missing values in Sleep Duration\n",
    "missing_sleep = smartwatch_steps['Sleep Duration (hours)'].isnull().sum()\n",
    "print(\"Missing values in Sleep Duration:\", missing_sleep)\n"
   ]
  },
  {
   "cell_type": "code",
   "execution_count": 44,
   "metadata": {},
   "outputs": [
    {
     "name": "stdout",
     "output_type": "stream",
     "text": [
      "Missing values in Sleep Duration after imputation: 0\n"
     ]
    },
    {
     "name": "stderr",
     "output_type": "stream",
     "text": [
      "/tmp/ipykernel_81946/2343902627.py:5: FutureWarning: A value is trying to be set on a copy of a DataFrame or Series through chained assignment using an inplace method.\n",
      "The behavior will change in pandas 3.0. This inplace method will never work because the intermediate object on which we are setting values always behaves as a copy.\n",
      "\n",
      "For example, when doing 'df[col].method(value, inplace=True)', try using 'df.method({col: value}, inplace=True)' or df[col] = df[col].method(value) instead, to perform the operation inplace on the original object.\n",
      "\n",
      "\n",
      "  smartwatch_steps['Sleep Duration (hours)'].fillna(sleep_median, inplace=True)\n"
     ]
    }
   ],
   "source": [
    "# Compute the median sleep duration\n",
    "sleep_median = smartwatch_steps['Sleep Duration (hours)'].median(skipna=True)\n",
    "\n",
    "# Fill missing values with the median\n",
    "smartwatch_steps['Sleep Duration (hours)'].fillna(sleep_median, inplace=True)\n",
    "\n",
    "# Verify missing values are handled\n",
    "print(\"Missing values in Sleep Duration after imputation:\", \n",
    "      smartwatch_steps['Sleep Duration (hours)'].isnull().sum())\n"
   ]
  },
  {
   "cell_type": "code",
   "execution_count": 45,
   "metadata": {},
   "outputs": [
    {
     "name": "stdout",
     "output_type": "stream",
     "text": [
      "Lower Bound for Outliers: 2.6394569674224493\n",
      "Upper Bound for Outliers: 10.37828858094464\n",
      "Number of Outliers: 78\n"
     ]
    }
   ],
   "source": [
    "Q1 = smartwatch_steps['Sleep Duration (hours)'].quantile(0.25)\n",
    "Q3 = smartwatch_steps['Sleep Duration (hours)'].quantile(0.75)\n",
    "IQR = Q3 - Q1\n",
    "\n",
    "# Define lower and upper bounds\n",
    "lower_bound = max(0, Q1 - 1.5 * IQR)  # Sleep cannot be negative\n",
    "upper_bound = min(24, Q3 + 1.5 * IQR)  # Sleep should be <= 24 hours\n",
    "\n",
    "print(f\"Lower Bound for Outliers: {lower_bound}\")\n",
    "print(f\"Upper Bound for Outliers: {upper_bound}\")\n",
    "\n",
    "# Count outliers\n",
    "outliers = smartwatch_steps[\n",
    "    (smartwatch_steps['Sleep Duration (hours)'] < lower_bound) |\n",
    "    (smartwatch_steps['Sleep Duration (hours)'] > upper_bound)\n",
    "]\n",
    "print(\"Number of Outliers:\", len(outliers))\n"
   ]
  },
  {
   "cell_type": "code",
   "execution_count": 46,
   "metadata": {},
   "outputs": [
    {
     "name": "stdout",
     "output_type": "stream",
     "text": [
      "Lower Bound for Outliers: 2.6394569674224493\n",
      "Upper Bound for Outliers: 10.37828858094464\n",
      "Number of Outliers: 78\n"
     ]
    }
   ],
   "source": [
    "Q1 = smartwatch_steps['Sleep Duration (hours)'].quantile(0.25)\n",
    "Q3 = smartwatch_steps['Sleep Duration (hours)'].quantile(0.75)\n",
    "IQR = Q3 - Q1\n",
    "\n",
    "# Define lower and upper bounds\n",
    "lower_bound = max(0, Q1 - 1.5 * IQR)  # Sleep cannot be negative\n",
    "upper_bound = min(24, Q3 + 1.5 * IQR)  # Sleep should be <= 24 hours\n",
    "\n",
    "print(f\"Lower Bound for Outliers: {lower_bound}\")\n",
    "print(f\"Upper Bound for Outliers: {upper_bound}\")\n",
    "\n",
    "# Count outliers\n",
    "outliers = smartwatch_steps[\n",
    "    (smartwatch_steps['Sleep Duration (hours)'] < lower_bound) |\n",
    "    (smartwatch_steps['Sleep Duration (hours)'] > upper_bound)\n",
    "]\n",
    "print(\"Number of Outliers:\", len(outliers))\n"
   ]
  },
  {
   "cell_type": "code",
   "execution_count": 47,
   "metadata": {},
   "outputs": [
    {
     "name": "stdout",
     "output_type": "stream",
     "text": [
      " Outliers capped successfully! Data is now cleaned.\n"
     ]
    }
   ],
   "source": [
    "# Cap sleep duration at reasonable limits\n",
    "smartwatch_steps['Sleep Duration (hours)'] = smartwatch_steps['Sleep Duration (hours)'].clip(lower=lower_bound, upper=upper_bound)\n",
    "\n",
    "# Store the final cleaned dataset\n",
    "smartwatch_updated_sleep = smartwatch_steps.copy()\n",
    "\n",
    "print(\" Outliers capped successfully! Data is now cleaned.\")\n"
   ]
  },
  {
   "cell_type": "code",
   "execution_count": 48,
   "metadata": {},
   "outputs": [
    {
     "data": {
      "image/png": "[encoded data removed]",
      "text/plain": [
       "<Figure size 640x480 with 1 Axes>"
      ]
     },
     "metadata": {},
     "output_type": "display_data"
    }
   ],
   "source": [
    "import seaborn as sns\n",
    "import matplotlib.pyplot as plt\n",
    "\n",
    "sns.boxplot(y=smartwatch_updated_sleep['Sleep Duration (hours)'])\n",
    "plt.title(\"Sleep Duration After Handling Missing Values & Outliers\")\n",
    "plt.show()\n"
   ]
  },
  {
   "cell_type": "markdown",
   "metadata": {},
   "source": [
    "### **Answer to Question 9: Handling Missing and Outlier Values in Sleep Duration**\n",
    "We identified **missing values and outliers** in the Sleep Duration column.\n",
    "\n",
    "To ensure data quality:\n",
    "- We **filled missing values using the median** to preserve distribution.\n",
    "- We **capped extreme sleep values** using the IQR method to prevent unrealistic sleep durations.\n",
    "\n",
    "The final cleaned dataset, `smartwatch_updated_sleep`, now accurately represents real-world sleep patterns.\n"
   ]
  },
  {
   "cell_type": "markdown",
   "metadata": {},
   "source": [
    "We're going to skip the `Activity Level` column for a minute and look at the `Stress Level` column. If we try getting the minimum, we'll find the same error as in the Sleep column where we have mixed data types (strings and numerical values). Let's use the same type of loop to make sure we don't obscure any data by forcing the strings to NaN values. "
   ]
  },
  {
   "cell_type": "code",
   "execution_count": 49,
   "metadata": {},
   "outputs": [
    {
     "name": "stdout",
     "output_type": "stream",
     "text": [
      "nan\n",
      "Very High\n"
     ]
    }
   ],
   "source": [
    "for item in smartwatch_updated_sleep['Stress Level'].unique():\n",
    "    try:\n",
    "        int(item)\n",
    "    except:\n",
    "        print(item)"
   ]
  },
  {
   "cell_type": "markdown",
   "metadata": {},
   "source": [
    "**Question 10**: \n",
    "\n",
    "What might you decide to do to deal with the `Very High` value? \n",
    "\n",
    "Go ahead and do so below and give a brief case for doing so here. Assign your table to the variable `smartwatch_stress`. \n",
    "\n",
    "ANSWER: \n",
    "..."
   ]
  },
  {
   "cell_type": "code",
   "execution_count": 50,
   "metadata": {},
   "outputs": [
    {
     "name": "stdout",
     "output_type": "stream",
     "text": [
      "Missing values in Stress Level after conversion: 249\n"
     ]
    }
   ],
   "source": [
    "# Convert the column to numeric, forcing errors to NaN\n",
    "smartwatch_updated_sleep['Stress Level'] = pd.to_numeric(\n",
    "    smartwatch_updated_sleep['Stress Level'], errors='coerce'\n",
    ")\n",
    "\n",
    "# Check how many values were converted to NaN\n",
    "print(\"Missing values in Stress Level after conversion:\", \n",
    "      smartwatch_updated_sleep['Stress Level'].isnull().sum())\n"
   ]
  },
  {
   "cell_type": "code",
   "execution_count": 51,
   "metadata": {},
   "outputs": [
    {
     "name": "stdout",
     "output_type": "stream",
     "text": [
      "Missing values in Stress Level after imputation: 0\n"
     ]
    },
    {
     "name": "stderr",
     "output_type": "stream",
     "text": [
      "/tmp/ipykernel_81946/225435473.py:5: FutureWarning: A value is trying to be set on a copy of a DataFrame or Series through chained assignment using an inplace method.\n",
      "The behavior will change in pandas 3.0. This inplace method will never work because the intermediate object on which we are setting values always behaves as a copy.\n",
      "\n",
      "For example, when doing 'df[col].method(value, inplace=True)', try using 'df.method({col: value}, inplace=True)' or df[col] = df[col].method(value) instead, to perform the operation inplace on the original object.\n",
      "\n",
      "\n",
      "  smartwatch_updated_sleep['Stress Level'].fillna(stress_median, inplace=True)\n"
     ]
    }
   ],
   "source": [
    "# Compute the median stress level\n",
    "stress_median = smartwatch_updated_sleep['Stress Level'].median(skipna=True)\n",
    "\n",
    "# Fill missing values\n",
    "smartwatch_updated_sleep['Stress Level'].fillna(stress_median, inplace=True)\n",
    "\n",
    "print(\"Missing values in Stress Level after imputation:\", \n",
    "      smartwatch_updated_sleep['Stress Level'].isnull().sum())\n"
   ]
  },
  {
   "cell_type": "code",
   "execution_count": 52,
   "metadata": {},
   "outputs": [
    {
     "name": "stdout",
     "output_type": "stream",
     "text": [
      "float64\n",
      "      Stress Level\n",
      "2              5.0\n",
      "337            9.0\n",
      "393            9.0\n",
      "403            9.0\n",
      "595            7.0\n",
      "649            5.0\n",
      "818            3.0\n",
      "1195           7.0\n",
      "1391           3.0\n",
      "1602           6.0\n"
     ]
    }
   ],
   "source": [
    "# Ensure that 'Stress Level' contains only numbers\n",
    "print(smartwatch_updated_sleep['Stress Level'].dtype)\n",
    "print(smartwatch_updated_sleep[['Stress Level']].head(10))\n"
   ]
  },
  {
   "cell_type": "markdown",
   "metadata": {},
   "source": [
    "### **Handling Mixed Data Types in `Stress Level`**\n",
    "We identified that the `Stress Level` column contained **both numerical and string values** (e.g., `\"Very High\"`). \n",
    "\n",
    "To clean the data:\n",
    "1. We converted all values to numeric, replacing non-numeric values with `NaN`.\n",
    "2. We filled missing values using the **median stress level** to preserve distribution.\n",
    "\n",
    "The `Stress Level` column is now fully cleaned and ready for analysis.\n"
   ]
  },
  {
   "cell_type": "markdown",
   "metadata": {},
   "source": [
    "Finally, let's go back to the `Activity Level` column and investigate what types of values we find there. "
   ]
  },
  {
   "cell_type": "code",
   "execution_count": 53,
   "metadata": {},
   "outputs": [
    {
     "data": {
      "text/plain": [
       "array(['Highly Active', 'Highly_Active', 'Actve', 'Seddentary',\n",
       "       'Sedentary', 'Active', nan], dtype=object)"
      ]
     },
     "execution_count": 53,
     "metadata": {},
     "output_type": "execute_result"
    }
   ],
   "source": [
    "smartwatch['Activity Level'].unique()"
   ]
  },
  {
   "cell_type": "markdown",
   "metadata": {},
   "source": [
    "**Question 12**: \n",
    "\n",
    "What do you notice? There are several values that could and should be combined because they represent the same information. Let's go ahead and do that. While combining these columns, let's also create a new column `NumActivity` where we give a numerical value to represent the activity level. Assign your final table to the variable `final_table`. \n",
    "\n",
    "`Highly Active` = `1`\n",
    "\n",
    "`Active` = `2`\n",
    "\n",
    "`Sedentary` = `3`\n",
    "\n"
   ]
  },
  {
   "cell_type": "code",
   "execution_count": 54,
   "metadata": {},
   "outputs": [],
   "source": [
    "smartwatch_stress = smartwatch_updated_sleep.copy()\n"
   ]
  },
  {
   "cell_type": "code",
   "execution_count": 55,
   "metadata": {},
   "outputs": [
    {
     "name": "stdout",
     "output_type": "stream",
     "text": [
      "<class 'pandas.core.frame.DataFrame'>\n",
      "Index: 10000 entries, 2 to 9999\n",
      "Data columns (total 8 columns):\n",
      " #   Column                  Non-Null Count  Dtype  \n",
      "---  ------                  --------------  -----  \n",
      " 0   User ID                 9799 non-null   float64\n",
      " 1   Heart Rate (BPM)        10000 non-null  float64\n",
      " 2   Blood Oxygen Level (%)  10000 non-null  float64\n",
      " 3   Step Count              10000 non-null  float64\n",
      " 4   Sleep Duration (hours)  10000 non-null  float64\n",
      " 5   Activity Level          10000 non-null  object \n",
      " 6   Stress Level            10000 non-null  float64\n",
      " 7   NumActivity             10000 non-null  float64\n",
      "dtypes: float64(7), object(1)\n",
      "memory usage: 703.1+ KB\n",
      "None\n",
      "User ID                   201\n",
      "Heart Rate (BPM)            0\n",
      "Blood Oxygen Level (%)      0\n",
      "Step Count                  0\n",
      "Sleep Duration (hours)      0\n",
      "Activity Level              0\n",
      "Stress Level                0\n",
      "NumActivity                 0\n",
      "dtype: int64\n"
     ]
    },
    {
     "name": "stderr",
     "output_type": "stream",
     "text": [
      "/tmp/ipykernel_81946/182240002.py:17: FutureWarning: A value is trying to be set on a copy of a DataFrame or Series through chained assignment using an inplace method.\n",
      "The behavior will change in pandas 3.0. This inplace method will never work because the intermediate object on which we are setting values always behaves as a copy.\n",
      "\n",
      "For example, when doing 'df[col].method(value, inplace=True)', try using 'df.method({col: value}, inplace=True)' or df[col] = df[col].method(value) instead, to perform the operation inplace on the original object.\n",
      "\n",
      "\n",
      "  smartwatch_stress['Activity Level'].fillna('Unknown', inplace=True)\n",
      "/tmp/ipykernel_81946/182240002.py:18: FutureWarning: A value is trying to be set on a copy of a DataFrame or Series through chained assignment using an inplace method.\n",
      "The behavior will change in pandas 3.0. This inplace method will never work because the intermediate object on which we are setting values always behaves as a copy.\n",
      "\n",
      "For example, when doing 'df[col].method(value, inplace=True)', try using 'df.method({col: value}, inplace=True)' or df[col] = df[col].method(value) instead, to perform the operation inplace on the original object.\n",
      "\n",
      "\n",
      "  smartwatch_stress['NumActivity'].fillna(0, inplace=True)  # Assign 0 for unknown\n"
     ]
    }
   ],
   "source": [
    "# Ensure smartwatch_stress is correctly assigned from the cleaned dataset\n",
    "smartwatch_stress = smartwatch_updated_sleep.copy()\n",
    "\n",
    "# Standardizing Activity Level\n",
    "smartwatch_stress.loc[smartwatch_stress['Activity Level'].isin(['Highly Active', 'Highly_Active']), 'Activity Level'] = 'Highly Active'\n",
    "smartwatch_stress.loc[smartwatch_stress['Activity Level'].isin(['Active', 'Actve']), 'Activity Level'] = 'Active'\n",
    "smartwatch_stress.loc[smartwatch_stress['Activity Level'].isin(['Sedentary', 'Seddentary']), 'Activity Level'] = 'Sedentary'\n",
    "\n",
    "# Assign numerical values for Activity Level\n",
    "smartwatch_stress['NumActivity'] = smartwatch_stress['Activity Level'].map({\n",
    "    'Highly Active': 1,\n",
    "    'Active': 2,\n",
    "    'Sedentary': 3\n",
    "})\n",
    "\n",
    "# Handle missing values in Activity Level by assigning 'Unknown' or dropping\n",
    "smartwatch_stress['Activity Level'].fillna('Unknown', inplace=True)\n",
    "smartwatch_stress['NumActivity'].fillna(0, inplace=True)  # Assign 0 for unknown\n",
    "\n",
    "# Final cleaned table\n",
    "final_table = smartwatch_stress.copy()\n",
    "\n",
    "# Display the final cleaned table info\n",
    "print(final_table.info())\n",
    "\n",
    "# Check missing values after fixes\n",
    "print(final_table.isnull().sum())\n"
   ]
  },
  {
   "cell_type": "markdown",
   "metadata": {},
   "source": [
    "Let's check to make sure that we no longer have any missing values in each column (besides the Activity Level/NumActivity, Stress Level, and User ID columns). You likely either removed those rows or imputed a value to substitute the missing values. "
   ]
  },
  {
   "cell_type": "markdown",
   "metadata": {},
   "source": [
    "Then let's use the info function to make sure each column has the data type we're expecting. "
   ]
  },
  {
   "cell_type": "code",
   "execution_count": 56,
   "metadata": {},
   "outputs": [
    {
     "data": {
      "text/plain": [
       "User ID                   201\n",
       "Heart Rate (BPM)            0\n",
       "Blood Oxygen Level (%)      0\n",
       "Step Count                  0\n",
       "Sleep Duration (hours)      0\n",
       "Activity Level              0\n",
       "Stress Level                0\n",
       "NumActivity                 0\n",
       "dtype: int64"
      ]
     },
     "execution_count": 56,
     "metadata": {},
     "output_type": "execute_result"
    }
   ],
   "source": [
    "final_table.isnull().sum()"
   ]
  },
  {
   "cell_type": "code",
   "execution_count": 57,
   "metadata": {},
   "outputs": [
    {
     "name": "stdout",
     "output_type": "stream",
     "text": [
      "<class 'pandas.core.frame.DataFrame'>\n",
      "Index: 10000 entries, 2 to 9999\n",
      "Data columns (total 8 columns):\n",
      " #   Column                  Non-Null Count  Dtype  \n",
      "---  ------                  --------------  -----  \n",
      " 0   User ID                 9799 non-null   float64\n",
      " 1   Heart Rate (BPM)        10000 non-null  float64\n",
      " 2   Blood Oxygen Level (%)  10000 non-null  float64\n",
      " 3   Step Count              10000 non-null  float64\n",
      " 4   Sleep Duration (hours)  10000 non-null  float64\n",
      " 5   Activity Level          10000 non-null  object \n",
      " 6   Stress Level            10000 non-null  float64\n",
      " 7   NumActivity             10000 non-null  float64\n",
      "dtypes: float64(7), object(1)\n",
      "memory usage: 703.1+ KB\n"
     ]
    }
   ],
   "source": [
    "final_table.info()"
   ]
  },
  {
   "cell_type": "code",
   "execution_count": 58,
   "metadata": {},
   "outputs": [
    {
     "data": {
      "text/plain": [
       "True"
      ]
     },
     "execution_count": 58,
     "metadata": {},
     "output_type": "execute_result"
    }
   ],
   "source": [
    "'final_table' in globals()\n"
   ]
  },
  {
   "cell_type": "markdown",
   "metadata": {},
   "source": [
    "**Question 13**: \n",
    "\n",
    "Let's visualize two of the variables. Let's pick `Heart Rate (BPM)` and then you can select any other numerical variable. We're going to create a scatter plot using matplotlib.pyplot. Example code is: \n",
    "\n",
    "`plt.scatter(x, y)` where x and y are your columns of data such as df['label']\n",
    "\n",
    "Also try including a size parameter to make your points smaller to better see patterns. We'll talk more about creating figures in python in a few weeks, but for now let's just look at the broad patterns. \n",
    "\n",
    "Example of including size parameter: \n",
    "\n",
    "`plt.scatter(x, y, s=1)` Try changing the `s` parameter to 10, 1, 0.5, and 0.1. \n",
    "\n",
    "What do you notice?\n",
    "\n",
    "ANSWER:\n",
    "\n",
    "..."
   ]
  },
  {
   "cell_type": "code",
   "execution_count": 59,
   "metadata": {},
   "outputs": [
    {
     "data": {
      "image/png": "[encoded data removed]",
      "text/plain": [
       "<Figure size 640x480 with 1 Axes>"
      ]
     },
     "metadata": {},
     "output_type": "display_data"
    }
   ],
   "source": [
    "import matplotlib.pyplot as plt\n",
    "\n",
    "# Define x and y variables for the scatter plot\n",
    "x = final_table['Heart Rate (BPM)']\n",
    "y = final_table['Step Count']  # You can choose another numerical variable\n",
    "\n",
    "# Create scatter plot with size parameter\n",
    "plt.scatter(x, y, s=1)  # Change 's' to adjust point size\n",
    "\n",
    "# Label axes\n",
    "plt.xlabel(\"Heart Rate (BPM)\")\n",
    "plt.ylabel(\"Step Count\")\n",
    "\n",
    "# Title\n",
    "plt.title(\"Scatter Plot: Heart Rate vs Step Count\")\n",
    "\n",
    "# Show plot\n",
    "plt.show()\n"
   ]
  },
  {
   "cell_type": "markdown",
   "metadata": {},
   "source": [
    "**Question 14**: \n",
    "\n",
    "\n",
    "Read in the CSV table where we kept all the NaN values instead of removing or imputing them. Repeat the exact same visualization as above with this data. \n",
    "\n",
    "Compare the two figures. What do you notice?\n",
    "\n",
    "ANSWER:\n",
    "\n",
    "..."
   ]
  },
  {
   "cell_type": "code",
   "execution_count": 60,
   "metadata": {},
   "outputs": [],
   "source": [
    "nanTable = pd.read_csv('smartwatch_nan_vals.csv')"
   ]
  },
  {
   "cell_type": "code",
   "execution_count": 61,
   "metadata": {},
   "outputs": [
    {
     "name": "stdout",
     "output_type": "stream",
     "text": [
      "<class 'pandas.core.frame.DataFrame'>\n",
      "RangeIndex: 10000 entries, 0 to 9999\n",
      "Data columns (total 8 columns):\n",
      " #   Column                  Non-Null Count  Dtype  \n",
      "---  ------                  --------------  -----  \n",
      " 0   User ID                 9799 non-null   float64\n",
      " 1   Heart Rate (BPM)        9550 non-null   float64\n",
      " 2   Blood Oxygen Level (%)  9700 non-null   float64\n",
      " 3   Step Count              9760 non-null   float64\n",
      " 4   Sleep Duration (hours)  9602 non-null   float64\n",
      " 5   Activity Level          9800 non-null   object \n",
      " 6   Stress Level            9800 non-null   float64\n",
      " 7   NumActivity             9800 non-null   float64\n",
      "dtypes: float64(7), object(1)\n",
      "memory usage: 625.1+ KB\n",
      "None\n"
     ]
    },
    {
     "data": {
      "text/html": [
       "<div>\n",
       "<style scoped>\n",
       "    .dataframe tbody tr th:only-of-type {\n",
       "        vertical-align: middle;\n",
       "    }\n",
       "\n",
       "    .dataframe tbody tr th {\n",
       "        vertical-align: top;\n",
       "    }\n",
       "\n",
       "    .dataframe thead th {\n",
       "        text-align: right;\n",
       "    }\n",
       "</style>\n",
       "<table border=\"1\" class=\"dataframe\">\n",
       "  <thead>\n",
       "    <tr style=\"text-align: right;\">\n",
       "      <th></th>\n",
       "      <th>User ID</th>\n",
       "      <th>Heart Rate (BPM)</th>\n",
       "      <th>Blood Oxygen Level (%)</th>\n",
       "      <th>Step Count</th>\n",
       "      <th>Sleep Duration (hours)</th>\n",
       "      <th>Activity Level</th>\n",
       "      <th>Stress Level</th>\n",
       "      <th>NumActivity</th>\n",
       "    </tr>\n",
       "  </thead>\n",
       "  <tbody>\n",
       "    <tr>\n",
       "      <th>0</th>\n",
       "      <td>4670.0</td>\n",
       "      <td>70.659253</td>\n",
       "      <td>99.072904</td>\n",
       "      <td>6042.576181</td>\n",
       "      <td>6.453973</td>\n",
       "      <td>Highly Active</td>\n",
       "      <td>10.0</td>\n",
       "      <td>1.0</td>\n",
       "    </tr>\n",
       "    <tr>\n",
       "      <th>1</th>\n",
       "      <td>1726.0</td>\n",
       "      <td>91.127561</td>\n",
       "      <td>100.000000</td>\n",
       "      <td>4213.519341</td>\n",
       "      <td>6.915594</td>\n",
       "      <td>Highly Active</td>\n",
       "      <td>10.0</td>\n",
       "      <td>1.0</td>\n",
       "    </tr>\n",
       "    <tr>\n",
       "      <th>2</th>\n",
       "      <td>4627.0</td>\n",
       "      <td>74.776893</td>\n",
       "      <td>99.630704</td>\n",
       "      <td>12557.592821</td>\n",
       "      <td>6.396437</td>\n",
       "      <td>Highly Active</td>\n",
       "      <td>10.0</td>\n",
       "      <td>1.0</td>\n",
       "    </tr>\n",
       "    <tr>\n",
       "      <th>3</th>\n",
       "      <td>1556.0</td>\n",
       "      <td>91.216912</td>\n",
       "      <td>98.777090</td>\n",
       "      <td>50224.691117</td>\n",
       "      <td>7.822021</td>\n",
       "      <td>Highly Active</td>\n",
       "      <td>10.0</td>\n",
       "      <td>1.0</td>\n",
       "    </tr>\n",
       "    <tr>\n",
       "      <th>4</th>\n",
       "      <td>3320.0</td>\n",
       "      <td>66.331358</td>\n",
       "      <td>99.903851</td>\n",
       "      <td>819.769598</td>\n",
       "      <td>7.255158</td>\n",
       "      <td>Highly Active</td>\n",
       "      <td>10.0</td>\n",
       "      <td>1.0</td>\n",
       "    </tr>\n",
       "  </tbody>\n",
       "</table>\n",
       "</div>"
      ],
      "text/plain": [
       "   User ID  Heart Rate (BPM)  Blood Oxygen Level (%)    Step Count  \\\n",
       "0   4670.0         70.659253               99.072904   6042.576181   \n",
       "1   1726.0         91.127561              100.000000   4213.519341   \n",
       "2   4627.0         74.776893               99.630704  12557.592821   \n",
       "3   1556.0         91.216912               98.777090  50224.691117   \n",
       "4   3320.0         66.331358               99.903851    819.769598   \n",
       "\n",
       "   Sleep Duration (hours) Activity Level  Stress Level  NumActivity  \n",
       "0                6.453973  Highly Active          10.0          1.0  \n",
       "1                6.915594  Highly Active          10.0          1.0  \n",
       "2                6.396437  Highly Active          10.0          1.0  \n",
       "3                7.822021  Highly Active          10.0          1.0  \n",
       "4                7.255158  Highly Active          10.0          1.0  "
      ]
     },
     "execution_count": 61,
     "metadata": {},
     "output_type": "execute_result"
    }
   ],
   "source": [
    "\n",
    "\n",
    "# Display basic info to check for NaN values\n",
    "print(nanTable.info())\n",
    "\n",
    "# Display the first few rows\n",
    "nanTable.head()\n"
   ]
  },
  {
   "cell_type": "code",
   "execution_count": 62,
   "metadata": {},
   "outputs": [
    {
     "data": {
      "image/png": "[encoded data removed]",
      "text/plain": [
       "<Figure size 640x480 with 1 Axes>"
      ]
     },
     "metadata": {},
     "output_type": "display_data"
    }
   ],
   "source": [
    "# Define x and y variables (replace 'Other Numeric Column' with your chosen column)\n",
    "x = nanTable['Heart Rate (BPM)']\n",
    "y = nanTable['Step Count']  # You can replace with another numeric column if needed\n",
    "\n",
    "# Scatter plot with smaller points for better visibility\n",
    "plt.scatter(x, y, s=1)\n",
    "\n",
    "# Labels and title\n",
    "plt.xlabel('Heart Rate (BPM)')\n",
    "plt.ylabel('Step Count')  # Adjust based on your chosen variable\n",
    "plt.title('Heart Rate vs. Step Count (With NaN Values)')\n",
    "\n",
    "# Show the plot\n",
    "plt.show()\n"
   ]
  },
  {
   "cell_type": "markdown",
   "metadata": {},
   "source": [
    "Comparison of Scatter Plots: Cleaned vs. NaN Data\n",
    "Cleaned Data (First Plot)\n",
    "\n",
    "Step Count is capped around 21,000, reducing extreme outliers.\n",
    "More structured distribution around ~75 BPM.\n",
    "Horizontal clustering at the upper bound suggests controlled outliers.\n",
    "NaN Data (Second Plot)\n",
    "\n",
    "Step Count extends above 60,000, showing extreme outliers.\n",
    "More dispersed and uneven distribution.\n",
    "Higher variability and noise, making trends harder to interpret."
   ]
  },
  {
   "cell_type": "markdown",
   "metadata": {},
   "source": [
    "**Question 15**: \n",
    "\n",
    "\n",
    "Does the amount of steps signficantly differ between the different activity level groups? \n",
    "\n",
    "Hint: Try using a boxplot (`sns.boxplot`) to first visualize the problem. Then you can use scipy.stats to run an ANOVA. "
   ]
  },
  {
   "cell_type": "code",
   "execution_count": 63,
   "metadata": {},
   "outputs": [
    {
     "data": {
      "image/png": "[encoded data removed]",
      "text/plain": [
       "<Figure size 800x600 with 1 Axes>"
      ]
     },
     "metadata": {},
     "output_type": "display_data"
    }
   ],
   "source": [
    "import seaborn as sns\n",
    "import matplotlib.pyplot as plt\n",
    "\n",
    "# Create a boxplot to compare Step Count across Activity Levels\n",
    "plt.figure(figsize=(8,6))\n",
    "sns.boxplot(x=final_table['Activity Level'], y=final_table['Step Count'])\n",
    "plt.title(\"Step Count Distribution by Activity Level\")\n",
    "plt.xlabel(\"Activity Level\")\n",
    "plt.ylabel(\"Step Count\")\n",
    "plt.show()\n"
   ]
  },
  {
   "cell_type": "code",
   "execution_count": 64,
   "metadata": {},
   "outputs": [
    {
     "name": "stdout",
     "output_type": "stream",
     "text": [
      "ANOVA test statistic: 0.221, p-value: 0.801\n"
     ]
    }
   ],
   "source": [
    "from scipy.stats import f_oneway\n",
    "\n",
    "# Create separate tables for each activity level\n",
    "sed = final_table[final_table['NumActivity'] == 3]  # Sedentary\n",
    "act = final_table[final_table['NumActivity'] == 2]  # Active\n",
    "hact = final_table[final_table['NumActivity'] == 1]  # Highly Active\n",
    "\n",
    "# Perform ANOVA test\n",
    "stat, pval = f_oneway(sed['Step Count'], act['Step Count'], hact['Step Count'])\n",
    "\n",
    "# Print results\n",
    "print(f\"ANOVA test statistic: {stat:.3f}, p-value: {pval:.3f}\")\n"
   ]
  },
  {
   "cell_type": "markdown",
   "metadata": {},
   "source": [
    "Is there significant difference between the groups' step counts?  \n",
    "\n",
    "ANSWER:\n",
    "\n",
    "The ANOVA test statistic is 0.221, with a p-value of 0.801. Since the p-value is greater than 0.05, we fail to reject the null hypothesis.\n",
    "\n",
    "This means that there is no statistically significant difference in step counts between the different activity level groups.\n",
    "\n",
    "The boxplot also supports this conclusion, as the distributions of step counts appear quite similar across all activity levels, with overlapping interquartile ranges and whiskers."
   ]
  },
  {
   "cell_type": "markdown",
   "metadata": {},
   "source": [
    "**Question 16**\n",
    "\n",
    "If you were to present your findings from this dataset to a broader audience (such as policymakers, healthcare providers, or the general public), how would you communicate key insights responsibly? What considerations would you take into account to avoid misrepresenting the data or reinforcing biases?\n",
    "\n",
    "ANSWER:\n",
    "\n",
    "1. Data Cleaning & Processing\n",
    "Missing Values: Found in several columns, including Blood Oxygen Level (300), Step Count (100), Sleep Duration (~397), and Stress Level (249). Missing values were handled using median imputation where appropriate.\n",
    "Outliers: Identified in Blood Oxygen Level (30 outliers) and Step Count (453 outliers). These were capped using statistical thresholds.\n",
    "Inconsistent Labels: \"Highly Active\" and \"Highly_Active,\" \"Sedentary\" and \"Seddentary,\" \"Active\" and \"Actve\" were unified into consistent categories.\n",
    "Mixed Data Types: The Stress Level column contained categorical values (e.g., \"Very High\"), which were converted to numerical values.\n",
    "2. Statistical Analysis\n",
    "Step Count Statistics:\n",
    "Minimum: 0.91 steps\n",
    "Maximum: 62,486.69 steps\n",
    "Mean: ~6,985.69 steps\n",
    "Heart Rate Statistics:\n",
    "Minimum: 40 BPM\n",
    "Maximum: 296.59 BPM\n",
    "Mean: 75.13 BPM\n",
    "Sleep Duration:\n",
    "Minimum: -0.19 hours (indicating erroneous data)\n",
    "Maximum: 12.14 hours\n",
    "Mean: 6.51 hours\n",
    "Blood Oxygen Level:\n",
    "Range: 92.59% - 103.44%\n",
    "Mean: 97.84%\n",
    "3. Comparative Analysis\n",
    "Activity Levels & Step Count:\n",
    "ANOVA test showed no statistically significant difference in step counts between the three activity level groups (Sedentary, Active, Highly Active).\n",
    "p-value 0.801, indicating no strong evidence that step count varies meaningfully across these groups.\n",
    "4. Visualization Insights\n",
    "Scatter Plots:\n",
    "Relationship between Heart Rate & Step Count was weak or unclear.\n",
    "Visualization helped in identifying outliers and missing values.\n",
    "Box Plots for Step Count Across Activity Levels:\n",
    "Confirmed that step count distributions were similar across activity levels, supporting the ANOVA test results.\n",
    "\n",
    "To present findings ethically and avoid bias:\n",
    "\n",
    "Acknowledge Data Limitations: State that missing values were imputed and outliers capped, which may impact accuracy.\n",
    "Avoid Overgeneralization: The ANOVA test showed no significant step count differences by activity level, but other health factors may play a role.\n",
    "Ensure Clarity: Use visuals and simple explanations to make findings accessible.\n",
    "Address Biases: Avoid assumptions based on incomplete or unrepresentative data.\n",
    "Offer Actionable Insights: Emphasize the need for better data collection and further research rather than making definitive claims.\n",
    "\n",
    "\n",
    "Key Takeaways\n",
    "Cleaning was crucial – the dataset contained errors, missing values, and inconsistencies that could have impacted analysis.\n",
    "Activity levels may not strongly predict step count – counterintuitive given expected trends.\n",
    "Some extreme outliers existed – e.g., negative sleep values, overly high step counts.\n",
    "Statistical tests showed no significant group differences – suggesting that self-reported activity levels may not align well with recorded step data.\n"
   ]
  },
  {
   "cell_type": "markdown",
   "metadata": {},
   "source": []
  }
 ],
 "metadata": {
  "kernelspec": {
   "display_name": "Python 3",
   "language": "python",
   "name": "python3"
  },
  "language_info": {
   "codemirror_mode": {
    "name": "ipython",
    "version": 3
   },
   "file_extension": ".py",
   "mimetype": "text/x-python",
   "name": "python",
   "nbconvert_exporter": "python",
   "pygments_lexer": "ipython3",
   "version": "3.12.1"
  }
 },
 "nbformat": 4,
 "nbformat_minor": 2
}
